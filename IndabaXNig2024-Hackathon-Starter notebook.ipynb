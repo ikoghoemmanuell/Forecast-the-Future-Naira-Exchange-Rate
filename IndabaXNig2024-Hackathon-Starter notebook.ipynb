{
 "cells": [
  {
   "cell_type": "code",
   "execution_count": 3,
   "id": "0e1ae632",
   "metadata": {},
   "outputs": [],
   "source": [
    "import pandas as pd\n",
    "import numpy as np\n",
    "import seaborn as sns\n",
    "import matplotlib.pyplot as plt\n",
    "%matplotlib inline"
   ]
  },
  {
   "cell_type": "code",
   "execution_count": 4,
   "id": "1772d427",
   "metadata": {},
   "outputs": [],
   "source": [
    "train = pd.read_csv('Competition_data.csv')"
   ]
  },
  {
   "cell_type": "code",
   "execution_count": 5,
   "id": "4592aba8",
   "metadata": {},
   "outputs": [
    {
     "data": {
      "text/html": [
       "<div>\n",
       "<style scoped>\n",
       "    .dataframe tbody tr th:only-of-type {\n",
       "        vertical-align: middle;\n",
       "    }\n",
       "\n",
       "    .dataframe tbody tr th {\n",
       "        vertical-align: top;\n",
       "    }\n",
       "\n",
       "    .dataframe thead th {\n",
       "        text-align: right;\n",
       "    }\n",
       "</style>\n",
       "<table border=\"1\" class=\"dataframe\">\n",
       "  <thead>\n",
       "    <tr style=\"text-align: right;\">\n",
       "      <th></th>\n",
       "      <th>Date</th>\n",
       "      <th>Close</th>\n",
       "    </tr>\n",
       "  </thead>\n",
       "  <tbody>\n",
       "    <tr>\n",
       "      <th>0</th>\n",
       "      <td>1/1/2023 23:58:00</td>\n",
       "      <td>448.08</td>\n",
       "    </tr>\n",
       "    <tr>\n",
       "      <th>1</th>\n",
       "      <td>1/2/2023 23:58:00</td>\n",
       "      <td>448.08</td>\n",
       "    </tr>\n",
       "    <tr>\n",
       "      <th>2</th>\n",
       "      <td>1/3/2023 23:58:00</td>\n",
       "      <td>448.55</td>\n",
       "    </tr>\n",
       "    <tr>\n",
       "      <th>3</th>\n",
       "      <td>1/4/2023 23:58:00</td>\n",
       "      <td>449.01</td>\n",
       "    </tr>\n",
       "    <tr>\n",
       "      <th>4</th>\n",
       "      <td>1/5/2023 23:58:00</td>\n",
       "      <td>449.53</td>\n",
       "    </tr>\n",
       "  </tbody>\n",
       "</table>\n",
       "</div>"
      ],
      "text/plain": [
       "                Date   Close\n",
       "0  1/1/2023 23:58:00  448.08\n",
       "1  1/2/2023 23:58:00  448.08\n",
       "2  1/3/2023 23:58:00  448.55\n",
       "3  1/4/2023 23:58:00  449.01\n",
       "4  1/5/2023 23:58:00  449.53"
      ]
     },
     "execution_count": 5,
     "metadata": {},
     "output_type": "execute_result"
    }
   ],
   "source": [
    "### \n",
    "train.head()"
   ]
  },
  {
   "cell_type": "code",
   "execution_count": 6,
   "id": "86a362b9",
   "metadata": {},
   "outputs": [
    {
     "data": {
      "text/plain": [
       "(486, 2)"
      ]
     },
     "execution_count": 6,
     "metadata": {},
     "output_type": "execute_result"
    }
   ],
   "source": [
    "### The shape of the data\n",
    "train.shape"
   ]
  },
  {
   "cell_type": "code",
   "execution_count": 7,
   "id": "be94286a",
   "metadata": {},
   "outputs": [
    {
     "name": "stdout",
     "output_type": "stream",
     "text": [
      "<class 'pandas.core.frame.DataFrame'>\n",
      "RangeIndex: 486 entries, 0 to 485\n",
      "Data columns (total 2 columns):\n",
      " #   Column  Non-Null Count  Dtype  \n",
      "---  ------  --------------  -----  \n",
      " 0   Date    486 non-null    object \n",
      " 1   Close   486 non-null    float64\n",
      "dtypes: float64(1), object(1)\n",
      "memory usage: 7.7+ KB\n"
     ]
    }
   ],
   "source": [
    "train.info()"
   ]
  },
  {
   "cell_type": "code",
   "execution_count": 8,
   "id": "4f456133",
   "metadata": {},
   "outputs": [],
   "source": [
    "### Remove time\n",
    "train['Date'] = train['Date'].apply(lambda x:x.split(' ')[0])"
   ]
  },
  {
   "cell_type": "code",
   "execution_count": 9,
   "id": "557d45a7",
   "metadata": {},
   "outputs": [],
   "source": [
    "### Convert \n",
    "train['Date'] = pd.to_datetime(train['Date'])"
   ]
  },
  {
   "cell_type": "code",
   "execution_count": 10,
   "id": "82b85401",
   "metadata": {},
   "outputs": [
    {
     "data": {
      "text/html": [
       "<div>\n",
       "<style scoped>\n",
       "    .dataframe tbody tr th:only-of-type {\n",
       "        vertical-align: middle;\n",
       "    }\n",
       "\n",
       "    .dataframe tbody tr th {\n",
       "        vertical-align: top;\n",
       "    }\n",
       "\n",
       "    .dataframe thead th {\n",
       "        text-align: right;\n",
       "    }\n",
       "</style>\n",
       "<table border=\"1\" class=\"dataframe\">\n",
       "  <thead>\n",
       "    <tr style=\"text-align: right;\">\n",
       "      <th></th>\n",
       "      <th>Date</th>\n",
       "      <th>Close</th>\n",
       "    </tr>\n",
       "  </thead>\n",
       "  <tbody>\n",
       "    <tr>\n",
       "      <th>0</th>\n",
       "      <td>2023-01-01</td>\n",
       "      <td>448.08</td>\n",
       "    </tr>\n",
       "    <tr>\n",
       "      <th>1</th>\n",
       "      <td>2023-01-02</td>\n",
       "      <td>448.08</td>\n",
       "    </tr>\n",
       "    <tr>\n",
       "      <th>2</th>\n",
       "      <td>2023-01-03</td>\n",
       "      <td>448.55</td>\n",
       "    </tr>\n",
       "    <tr>\n",
       "      <th>3</th>\n",
       "      <td>2023-01-04</td>\n",
       "      <td>449.01</td>\n",
       "    </tr>\n",
       "    <tr>\n",
       "      <th>4</th>\n",
       "      <td>2023-01-05</td>\n",
       "      <td>449.53</td>\n",
       "    </tr>\n",
       "    <tr>\n",
       "      <th>...</th>\n",
       "      <td>...</td>\n",
       "      <td>...</td>\n",
       "    </tr>\n",
       "    <tr>\n",
       "      <th>481</th>\n",
       "      <td>2024-05-02</td>\n",
       "      <td>1372.95</td>\n",
       "    </tr>\n",
       "    <tr>\n",
       "      <th>482</th>\n",
       "      <td>2024-05-03</td>\n",
       "      <td>1382.50</td>\n",
       "    </tr>\n",
       "    <tr>\n",
       "      <th>483</th>\n",
       "      <td>2024-05-04</td>\n",
       "      <td>1382.50</td>\n",
       "    </tr>\n",
       "    <tr>\n",
       "      <th>484</th>\n",
       "      <td>2024-05-05</td>\n",
       "      <td>1393.74</td>\n",
       "    </tr>\n",
       "    <tr>\n",
       "      <th>485</th>\n",
       "      <td>2024-05-06</td>\n",
       "      <td>1384.00</td>\n",
       "    </tr>\n",
       "  </tbody>\n",
       "</table>\n",
       "<p>486 rows × 2 columns</p>\n",
       "</div>"
      ],
      "text/plain": [
       "          Date    Close\n",
       "0   2023-01-01   448.08\n",
       "1   2023-01-02   448.08\n",
       "2   2023-01-03   448.55\n",
       "3   2023-01-04   449.01\n",
       "4   2023-01-05   449.53\n",
       "..         ...      ...\n",
       "481 2024-05-02  1372.95\n",
       "482 2024-05-03  1382.50\n",
       "483 2024-05-04  1382.50\n",
       "484 2024-05-05  1393.74\n",
       "485 2024-05-06  1384.00\n",
       "\n",
       "[486 rows x 2 columns]"
      ]
     },
     "execution_count": 10,
     "metadata": {},
     "output_type": "execute_result"
    }
   ],
   "source": [
    "train"
   ]
  },
  {
   "cell_type": "code",
   "execution_count": 11,
   "id": "ea712cc1",
   "metadata": {},
   "outputs": [
    {
     "data": {
      "image/png": "[encoded data removed]",
      "text/plain": [
       "<Figure size 640x480 with 1 Axes>"
      ]
     },
     "metadata": {},
     "output_type": "display_data"
    }
   ],
   "source": [
    "train.set_index('Date').plot(title='Exchange Rate Trend');\n",
    "plt.ylabel('Price');"
   ]
  },
  {
   "cell_type": "markdown",
   "id": "18877c0b",
   "metadata": {},
   "source": [
    "Recently, the distribution of exchange prices has not been stable."
   ]
  },
  {
   "cell_type": "markdown",
   "id": "a405536c",
   "metadata": {},
   "source": [
    "### Create our test set"
   ]
  },
  {
   "cell_type": "code",
   "execution_count": 12,
   "id": "a9154690",
   "metadata": {},
   "outputs": [],
   "source": [
    "### The test set ranges from May 22 to June 4th\n",
    "date_range = pd.date_range(start='2024-05-22', end='2024-06-04', freq='D')"
   ]
  },
  {
   "cell_type": "code",
   "execution_count": 13,
   "id": "07ceba23",
   "metadata": {},
   "outputs": [],
   "source": [
    "test = pd.DataFrame(date_range, columns=['Date'])"
   ]
  },
  {
   "cell_type": "code",
   "execution_count": 14,
   "id": "d7bdce30",
   "metadata": {},
   "outputs": [
    {
     "data": {
      "text/html": [
       "<div>\n",
       "<style scoped>\n",
       "    .dataframe tbody tr th:only-of-type {\n",
       "        vertical-align: middle;\n",
       "    }\n",
       "\n",
       "    .dataframe tbody tr th {\n",
       "        vertical-align: top;\n",
       "    }\n",
       "\n",
       "    .dataframe thead th {\n",
       "        text-align: right;\n",
       "    }\n",
       "</style>\n",
       "<table border=\"1\" class=\"dataframe\">\n",
       "  <thead>\n",
       "    <tr style=\"text-align: right;\">\n",
       "      <th></th>\n",
       "      <th>Date</th>\n",
       "    </tr>\n",
       "  </thead>\n",
       "  <tbody>\n",
       "    <tr>\n",
       "      <th>0</th>\n",
       "      <td>2024-05-22</td>\n",
       "    </tr>\n",
       "    <tr>\n",
       "      <th>1</th>\n",
       "      <td>2024-05-23</td>\n",
       "    </tr>\n",
       "    <tr>\n",
       "      <th>2</th>\n",
       "      <td>2024-05-24</td>\n",
       "    </tr>\n",
       "    <tr>\n",
       "      <th>3</th>\n",
       "      <td>2024-05-25</td>\n",
       "    </tr>\n",
       "    <tr>\n",
       "      <th>4</th>\n",
       "      <td>2024-05-26</td>\n",
       "    </tr>\n",
       "    <tr>\n",
       "      <th>5</th>\n",
       "      <td>2024-05-27</td>\n",
       "    </tr>\n",
       "    <tr>\n",
       "      <th>6</th>\n",
       "      <td>2024-05-28</td>\n",
       "    </tr>\n",
       "    <tr>\n",
       "      <th>7</th>\n",
       "      <td>2024-05-29</td>\n",
       "    </tr>\n",
       "    <tr>\n",
       "      <th>8</th>\n",
       "      <td>2024-05-30</td>\n",
       "    </tr>\n",
       "    <tr>\n",
       "      <th>9</th>\n",
       "      <td>2024-05-31</td>\n",
       "    </tr>\n",
       "    <tr>\n",
       "      <th>10</th>\n",
       "      <td>2024-06-01</td>\n",
       "    </tr>\n",
       "    <tr>\n",
       "      <th>11</th>\n",
       "      <td>2024-06-02</td>\n",
       "    </tr>\n",
       "    <tr>\n",
       "      <th>12</th>\n",
       "      <td>2024-06-03</td>\n",
       "    </tr>\n",
       "    <tr>\n",
       "      <th>13</th>\n",
       "      <td>2024-06-04</td>\n",
       "    </tr>\n",
       "  </tbody>\n",
       "</table>\n",
       "</div>"
      ],
      "text/plain": [
       "         Date\n",
       "0  2024-05-22\n",
       "1  2024-05-23\n",
       "2  2024-05-24\n",
       "3  2024-05-25\n",
       "4  2024-05-26\n",
       "5  2024-05-27\n",
       "6  2024-05-28\n",
       "7  2024-05-29\n",
       "8  2024-05-30\n",
       "9  2024-05-31\n",
       "10 2024-06-01\n",
       "11 2024-06-02\n",
       "12 2024-06-03\n",
       "13 2024-06-04"
      ]
     },
     "execution_count": 14,
     "metadata": {},
     "output_type": "execute_result"
    }
   ],
   "source": [
    "test"
   ]
  },
  {
   "cell_type": "markdown",
   "id": "cacf87da",
   "metadata": {},
   "source": [
    "The test set ranges from May 22 to June 4th 2024."
   ]
  },
  {
   "cell_type": "markdown",
   "id": "cac4afdc",
   "metadata": {},
   "source": [
    "### Forecasting model\n",
    "\n",
    "ARIMA models are a popular tool for time series forecasting, and can be implemented in Python using the `statsmodels` library."
   ]
  },
  {
   "cell_type": "code",
   "execution_count": 15,
   "id": "85015ce6",
   "metadata": {},
   "outputs": [],
   "source": [
    "from statsmodels.tsa.arima.model import ARIMA\n",
    "from sklearn.metrics import mean_squared_error"
   ]
  },
  {
   "cell_type": "code",
   "execution_count": 16,
   "id": "17b14179",
   "metadata": {},
   "outputs": [],
   "source": [
    "### Cross validation\n",
    "train_data = train[:480] ## we use the date from January 1 2023 to April 30 2024 to train our model\n",
    "valid_data = train[480:] ## we use the date May 1 to May 6 to validate the performance of our model"
   ]
  },
  {
   "cell_type": "code",
   "execution_count": 17,
   "id": "eb62632d",
   "metadata": {},
   "outputs": [],
   "source": [
    "train_close = train_data['Close'] ## Our target feature (Close)\n",
    "valid_close = valid_data['Close']"
   ]
  },
  {
   "cell_type": "code",
   "execution_count": 18,
   "id": "0c7f92ae",
   "metadata": {},
   "outputs": [],
   "source": [
    "historical_close = [x for x in train_close]"
   ]
  },
  {
   "cell_type": "code",
   "execution_count": 19,
   "id": "3cf70921",
   "metadata": {},
   "outputs": [],
   "source": [
    "model = ARIMA(historical_close, order=(1,1,1))"
   ]
  },
  {
   "cell_type": "code",
   "execution_count": 20,
   "id": "a89b7d9c",
   "metadata": {},
   "outputs": [
    {
     "name": "stderr",
     "output_type": "stream",
     "text": [
      "c:\\Users\\LENOVO\\Music\\Ad-Engagement-Forecasting\\venv\\lib\\site-packages\\statsmodels\\tsa\\statespace\\sarimax.py:966: UserWarning: Non-stationary starting autoregressive parameters found. Using zeros as starting parameters.\n",
      "  warn('Non-stationary starting autoregressive parameters'\n",
      "c:\\Users\\LENOVO\\Music\\Ad-Engagement-Forecasting\\venv\\lib\\site-packages\\statsmodels\\tsa\\statespace\\sarimax.py:978: UserWarning: Non-invertible starting MA parameters found. Using zeros as starting parameters.\n",
      "  warn('Non-invertible starting MA parameters found.'\n"
     ]
    }
   ],
   "source": [
    "model_fit = model.fit()"
   ]
  },
  {
   "cell_type": "code",
   "execution_count": 21,
   "id": "6308d357",
   "metadata": {},
   "outputs": [
    {
     "name": "stdout",
     "output_type": "stream",
     "text": [
      "                               SARIMAX Results                                \n",
      "==============================================================================\n",
      "Dep. Variable:                      y   No. Observations:                  480\n",
      "Model:                 ARIMA(1, 1, 1)   Log Likelihood               -2266.694\n",
      "Date:                Sat, 25 May 2024   AIC                           4539.388\n",
      "Time:                        11:46:44   BIC                           4551.903\n",
      "Sample:                             0   HQIC                          4544.308\n",
      "                                - 480                                         \n",
      "Covariance Type:                  opg                                         \n",
      "==============================================================================\n",
      "                 coef    std err          z      P>|z|      [0.025      0.975]\n",
      "------------------------------------------------------------------------------\n",
      "ar.L1         -0.9643      0.014    -66.538      0.000      -0.993      -0.936\n",
      "ma.L1          0.9997      0.114      8.790      0.000       0.777       1.223\n",
      "sigma2       751.2418     93.678      8.019      0.000     567.636     934.848\n",
      "===================================================================================\n",
      "Ljung-Box (L1) (Q):                   0.01   Jarque-Bera (JB):             32721.07\n",
      "Prob(Q):                              0.90   Prob(JB):                         0.00\n",
      "Heteroskedasticity (H):             650.97   Skew:                             4.28\n",
      "Prob(H) (two-sided):                  0.00   Kurtosis:                        42.57\n",
      "===================================================================================\n",
      "\n",
      "Warnings:\n",
      "[1] Covariance matrix calculated using the outer product of gradients (complex-step).\n"
     ]
    }
   ],
   "source": [
    "print(model_fit.summary())"
   ]
  },
  {
   "cell_type": "code",
   "execution_count": 22,
   "id": "b705f787",
   "metadata": {},
   "outputs": [],
   "source": [
    "y_pred = model_fit.predict(start=len(train_data), end=len(train)-1)"
   ]
  },
  {
   "cell_type": "code",
   "execution_count": 23,
   "id": "c0bb3a09",
   "metadata": {},
   "outputs": [
    {
     "data": {
      "text/plain": [
       "8.882015537027629"
      ]
     },
     "execution_count": 23,
     "metadata": {},
     "output_type": "execute_result"
    }
   ],
   "source": [
    "mean_squared_error(valid_close, y_pred.round(2), squared=False)"
   ]
  },
  {
   "cell_type": "markdown",
   "id": "e956e39c",
   "metadata": {},
   "source": [
    "Validation score is 8.88"
   ]
  },
  {
   "cell_type": "markdown",
   "id": "86a84900",
   "metadata": {},
   "source": [
    "### Test prediction"
   ]
  },
  {
   "cell_type": "code",
   "execution_count": 24,
   "id": "ef697aa7",
   "metadata": {},
   "outputs": [
    {
     "data": {
      "text/plain": [
       "Timestamp('2024-05-22 00:00:00')"
      ]
     },
     "execution_count": 24,
     "metadata": {},
     "output_type": "execute_result"
    }
   ],
   "source": [
    "test['Date'].iloc[0]"
   ]
  },
  {
   "cell_type": "code",
   "execution_count": 25,
   "id": "8d566c89",
   "metadata": {},
   "outputs": [],
   "source": [
    "start_date = test['Date'].iloc[0]\n",
    "end_date = test['Date'].iloc[-1]\n",
    "prediction_dates = pd.date_range(start=start_date, end=end_date, freq='D')"
   ]
  },
  {
   "cell_type": "code",
   "execution_count": 26,
   "id": "f465d165",
   "metadata": {},
   "outputs": [],
   "source": [
    "periods = len(prediction_dates)\n",
    "\n",
    "# Forecast\n",
    "forecast = model_fit.get_forecast(steps=periods)"
   ]
  },
  {
   "cell_type": "code",
   "execution_count": 27,
   "id": "e7c93324",
   "metadata": {},
   "outputs": [],
   "source": [
    "predicted_mean = forecast.predicted_mean"
   ]
  },
  {
   "cell_type": "code",
   "execution_count": 28,
   "id": "719a4457",
   "metadata": {},
   "outputs": [
    {
     "data": {
      "text/plain": [
       "array([1389.26842887, 1389.97389697, 1389.29360052, 1389.94962346,\n",
       "       1389.31700793, 1389.92705124, 1389.33877475, 1389.90606108,\n",
       "       1389.35901597, 1389.88654208, 1389.37783852, 1389.86839114,\n",
       "       1389.39534182, 1389.85151237])"
      ]
     },
     "execution_count": 28,
     "metadata": {},
     "output_type": "execute_result"
    }
   ],
   "source": [
    "predicted_mean"
   ]
  },
  {
   "cell_type": "markdown",
   "id": "ebf13c70",
   "metadata": {},
   "source": [
    "#### Make Submission (Make sure you round to 2 demical places)"
   ]
  },
  {
   "cell_type": "code",
   "execution_count": 29,
   "id": "702f0fd5",
   "metadata": {},
   "outputs": [],
   "source": [
    "submission = test"
   ]
  },
  {
   "cell_type": "code",
   "execution_count": 30,
   "id": "f243a5be",
   "metadata": {},
   "outputs": [],
   "source": [
    "submission['Close'] = predicted_mean.round(2)"
   ]
  },
  {
   "cell_type": "code",
   "execution_count": 31,
   "id": "73a4dc46",
   "metadata": {},
   "outputs": [
    {
     "data": {
      "text/html": [
       "<div>\n",
       "<style scoped>\n",
       "    .dataframe tbody tr th:only-of-type {\n",
       "        vertical-align: middle;\n",
       "    }\n",
       "\n",
       "    .dataframe tbody tr th {\n",
       "        vertical-align: top;\n",
       "    }\n",
       "\n",
       "    .dataframe thead th {\n",
       "        text-align: right;\n",
       "    }\n",
       "</style>\n",
       "<table border=\"1\" class=\"dataframe\">\n",
       "  <thead>\n",
       "    <tr style=\"text-align: right;\">\n",
       "      <th></th>\n",
       "      <th>Date</th>\n",
       "      <th>Close</th>\n",
       "    </tr>\n",
       "  </thead>\n",
       "  <tbody>\n",
       "    <tr>\n",
       "      <th>0</th>\n",
       "      <td>2024-05-22</td>\n",
       "      <td>1389.27</td>\n",
       "    </tr>\n",
       "    <tr>\n",
       "      <th>1</th>\n",
       "      <td>2024-05-23</td>\n",
       "      <td>1389.97</td>\n",
       "    </tr>\n",
       "    <tr>\n",
       "      <th>2</th>\n",
       "      <td>2024-05-24</td>\n",
       "      <td>1389.29</td>\n",
       "    </tr>\n",
       "    <tr>\n",
       "      <th>3</th>\n",
       "      <td>2024-05-25</td>\n",
       "      <td>1389.95</td>\n",
       "    </tr>\n",
       "    <tr>\n",
       "      <th>4</th>\n",
       "      <td>2024-05-26</td>\n",
       "      <td>1389.32</td>\n",
       "    </tr>\n",
       "    <tr>\n",
       "      <th>5</th>\n",
       "      <td>2024-05-27</td>\n",
       "      <td>1389.93</td>\n",
       "    </tr>\n",
       "    <tr>\n",
       "      <th>6</th>\n",
       "      <td>2024-05-28</td>\n",
       "      <td>1389.34</td>\n",
       "    </tr>\n",
       "    <tr>\n",
       "      <th>7</th>\n",
       "      <td>2024-05-29</td>\n",
       "      <td>1389.91</td>\n",
       "    </tr>\n",
       "    <tr>\n",
       "      <th>8</th>\n",
       "      <td>2024-05-30</td>\n",
       "      <td>1389.36</td>\n",
       "    </tr>\n",
       "    <tr>\n",
       "      <th>9</th>\n",
       "      <td>2024-05-31</td>\n",
       "      <td>1389.89</td>\n",
       "    </tr>\n",
       "    <tr>\n",
       "      <th>10</th>\n",
       "      <td>2024-06-01</td>\n",
       "      <td>1389.38</td>\n",
       "    </tr>\n",
       "    <tr>\n",
       "      <th>11</th>\n",
       "      <td>2024-06-02</td>\n",
       "      <td>1389.87</td>\n",
       "    </tr>\n",
       "    <tr>\n",
       "      <th>12</th>\n",
       "      <td>2024-06-03</td>\n",
       "      <td>1389.40</td>\n",
       "    </tr>\n",
       "    <tr>\n",
       "      <th>13</th>\n",
       "      <td>2024-06-04</td>\n",
       "      <td>1389.85</td>\n",
       "    </tr>\n",
       "  </tbody>\n",
       "</table>\n",
       "</div>"
      ],
      "text/plain": [
       "         Date    Close\n",
       "0  2024-05-22  1389.27\n",
       "1  2024-05-23  1389.97\n",
       "2  2024-05-24  1389.29\n",
       "3  2024-05-25  1389.95\n",
       "4  2024-05-26  1389.32\n",
       "5  2024-05-27  1389.93\n",
       "6  2024-05-28  1389.34\n",
       "7  2024-05-29  1389.91\n",
       "8  2024-05-30  1389.36\n",
       "9  2024-05-31  1389.89\n",
       "10 2024-06-01  1389.38\n",
       "11 2024-06-02  1389.87\n",
       "12 2024-06-03  1389.40\n",
       "13 2024-06-04  1389.85"
      ]
     },
     "execution_count": 31,
     "metadata": {},
     "output_type": "execute_result"
    }
   ],
   "source": [
    "submission"
   ]
  },
  {
   "cell_type": "code",
   "execution_count": 32,
   "id": "a7856de5",
   "metadata": {},
   "outputs": [],
   "source": [
    "## Submit to Zindi\n",
    "submission.to_csv('base1.csv',index=False)"
   ]
  },
  {
   "cell_type": "markdown",
   "id": "b8967f34",
   "metadata": {},
   "source": [
    "### Recommendation\n",
    "\n",
    "* Data cleaning (if any).\n",
    "\n",
    "* Find the optimal parameters for the ARIMA model.\n",
    "\n",
    "* Try more sophisticated models like SARIMAX and FProphet.\n",
    "\n",
    "* Try the machine learning approach.\n",
    "\n",
    "* Ensemble Method."
   ]
  },
  {
   "cell_type": "markdown",
   "id": "88e91900",
   "metadata": {},
   "source": [
    "### Best of Luck in your Forecast"
   ]
  },
  {
   "cell_type": "code",
   "execution_count": null,
   "id": "1329ed54",
   "metadata": {},
   "outputs": [],
   "source": []
  }
 ],
 "metadata": {
  "kernelspec": {
   "display_name": "Python 3 (ipykernel)",
   "language": "python",
   "name": "python3"
  },
  "language_info": {
   "codemirror_mode": {
    "name": "ipython",
    "version": 3
   },
   "file_extension": ".py",
   "mimetype": "text/x-python",
   "name": "python",
   "nbconvert_exporter": "python",
   "pygments_lexer": "ipython3",
   "version": "3.10.10"
  }
 },
 "nbformat": 4,
 "nbformat_minor": 5
}
