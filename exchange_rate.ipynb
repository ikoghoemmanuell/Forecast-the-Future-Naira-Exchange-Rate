{
 "cells": [
  {
   "cell_type": "code",
   "execution_count": 205,
   "metadata": {},
   "outputs": [],
   "source": [
    "import pandas as pd\n",
    "import seaborn as sns\n",
    "import numpy as np\n",
    "from sklearn.neighbors import KNeighborsRegressor"
   ]
  },
  {
   "cell_type": "code",
   "execution_count": 206,
   "metadata": {},
   "outputs": [],
   "source": [
    "df = pd.read_csv('Competition_data.csv')"
   ]
  },
  {
   "cell_type": "code",
   "execution_count": 207,
   "metadata": {},
   "outputs": [
    {
     "data": {
      "text/html": [
       "<div>\n",
       "<style scoped>\n",
       "    .dataframe tbody tr th:only-of-type {\n",
       "        vertical-align: middle;\n",
       "    }\n",
       "\n",
       "    .dataframe tbody tr th {\n",
       "        vertical-align: top;\n",
       "    }\n",
       "\n",
       "    .dataframe thead th {\n",
       "        text-align: right;\n",
       "    }\n",
       "</style>\n",
       "<table border=\"1\" class=\"dataframe\">\n",
       "  <thead>\n",
       "    <tr style=\"text-align: right;\">\n",
       "      <th></th>\n",
       "      <th>Date</th>\n",
       "      <th>Close</th>\n",
       "    </tr>\n",
       "  </thead>\n",
       "  <tbody>\n",
       "    <tr>\n",
       "      <th>0</th>\n",
       "      <td>1/1/2023 23:58:00</td>\n",
       "      <td>448.08</td>\n",
       "    </tr>\n",
       "    <tr>\n",
       "      <th>1</th>\n",
       "      <td>1/2/2023 23:58:00</td>\n",
       "      <td>448.08</td>\n",
       "    </tr>\n",
       "    <tr>\n",
       "      <th>2</th>\n",
       "      <td>1/3/2023 23:58:00</td>\n",
       "      <td>448.55</td>\n",
       "    </tr>\n",
       "    <tr>\n",
       "      <th>3</th>\n",
       "      <td>1/4/2023 23:58:00</td>\n",
       "      <td>449.01</td>\n",
       "    </tr>\n",
       "    <tr>\n",
       "      <th>4</th>\n",
       "      <td>1/5/2023 23:58:00</td>\n",
       "      <td>449.53</td>\n",
       "    </tr>\n",
       "  </tbody>\n",
       "</table>\n",
       "</div>"
      ],
      "text/plain": [
       "                Date   Close\n",
       "0  1/1/2023 23:58:00  448.08\n",
       "1  1/2/2023 23:58:00  448.08\n",
       "2  1/3/2023 23:58:00  448.55\n",
       "3  1/4/2023 23:58:00  449.01\n",
       "4  1/5/2023 23:58:00  449.53"
      ]
     },
     "execution_count": 207,
     "metadata": {},
     "output_type": "execute_result"
    }
   ],
   "source": [
    "df.head()"
   ]
  },
  {
   "cell_type": "code",
   "execution_count": 208,
   "metadata": {},
   "outputs": [],
   "source": [
    "# Convert 'Date' column to datetime format\n",
    "df['Date'] = pd.to_datetime(df['Date'])\n",
    "\n",
    "# Extract date and time into separate columns\n",
    "df['Only_Date'] = df['Date'].dt.date\n",
    "df['Only_Time'] = df['Date'].dt.time\n",
    "\n",
    "# Sort the DataFrame by 'Only_Date' and 'Only_Time'\n",
    "df = df.sort_values(by=['Only_Date', 'Only_Time'])\n",
    "\n",
    "# Reset index if desired\n",
    "df.reset_index(drop=True, inplace=True)"
   ]
  },
  {
   "cell_type": "code",
   "execution_count": 209,
   "metadata": {},
   "outputs": [
    {
     "data": {
      "text/html": [
       "<div>\n",
       "<style scoped>\n",
       "    .dataframe tbody tr th:only-of-type {\n",
       "        vertical-align: middle;\n",
       "    }\n",
       "\n",
       "    .dataframe tbody tr th {\n",
       "        vertical-align: top;\n",
       "    }\n",
       "\n",
       "    .dataframe thead th {\n",
       "        text-align: right;\n",
       "    }\n",
       "</style>\n",
       "<table border=\"1\" class=\"dataframe\">\n",
       "  <thead>\n",
       "    <tr style=\"text-align: right;\">\n",
       "      <th></th>\n",
       "      <th>Date</th>\n",
       "      <th>Close</th>\n",
       "      <th>Only_Date</th>\n",
       "      <th>Only_Time</th>\n",
       "    </tr>\n",
       "  </thead>\n",
       "  <tbody>\n",
       "    <tr>\n",
       "      <th>0</th>\n",
       "      <td>2023-01-01 23:58:00</td>\n",
       "      <td>448.08</td>\n",
       "      <td>2023-01-01</td>\n",
       "      <td>23:58:00</td>\n",
       "    </tr>\n",
       "    <tr>\n",
       "      <th>1</th>\n",
       "      <td>2023-01-02 23:58:00</td>\n",
       "      <td>448.08</td>\n",
       "      <td>2023-01-02</td>\n",
       "      <td>23:58:00</td>\n",
       "    </tr>\n",
       "    <tr>\n",
       "      <th>2</th>\n",
       "      <td>2023-01-03 23:58:00</td>\n",
       "      <td>448.55</td>\n",
       "      <td>2023-01-03</td>\n",
       "      <td>23:58:00</td>\n",
       "    </tr>\n",
       "    <tr>\n",
       "      <th>3</th>\n",
       "      <td>2023-01-04 23:58:00</td>\n",
       "      <td>449.01</td>\n",
       "      <td>2023-01-04</td>\n",
       "      <td>23:58:00</td>\n",
       "    </tr>\n",
       "    <tr>\n",
       "      <th>4</th>\n",
       "      <td>2023-01-05 23:58:00</td>\n",
       "      <td>449.53</td>\n",
       "      <td>2023-01-05</td>\n",
       "      <td>23:58:00</td>\n",
       "    </tr>\n",
       "  </tbody>\n",
       "</table>\n",
       "</div>"
      ],
      "text/plain": [
       "                 Date   Close   Only_Date Only_Time\n",
       "0 2023-01-01 23:58:00  448.08  2023-01-01  23:58:00\n",
       "1 2023-01-02 23:58:00  448.08  2023-01-02  23:58:00\n",
       "2 2023-01-03 23:58:00  448.55  2023-01-03  23:58:00\n",
       "3 2023-01-04 23:58:00  449.01  2023-01-04  23:58:00\n",
       "4 2023-01-05 23:58:00  449.53  2023-01-05  23:58:00"
      ]
     },
     "execution_count": 209,
     "metadata": {},
     "output_type": "execute_result"
    }
   ],
   "source": [
    "df.head()"
   ]
  },
  {
   "cell_type": "code",
   "execution_count": 210,
   "metadata": {},
   "outputs": [
    {
     "data": {
      "text/plain": [
       "Timestamp('2024-05-06 23:58:00')"
      ]
     },
     "execution_count": 210,
     "metadata": {},
     "output_type": "execute_result"
    }
   ],
   "source": [
    "df.Date.max()"
   ]
  },
  {
   "cell_type": "code",
   "execution_count": 211,
   "metadata": {},
   "outputs": [],
   "source": [
    "forecast_columns = ['Close']\n",
    "# This function uses KNN to forecast future values of a time series using the index as input.\n",
    "def knn_forecast(series, window, forecast_horizon, n_neighbors): \n",
    "# it takes in a series(the series is the 'clicks' column in this case), \n",
    "# window size(num of past data in the series to consider - in this case I used 13 (approx 2 weeks in the past)), \n",
    "# forecast horizon (num of days to forecast into the future - in this case I used 16 (approx 2 weeks into the future)),\n",
    "# and number of neighbors (number of neighbours to consider in the KNN model - in this case I used 1)\n",
    "    # Prepare training data for KNN\n",
    "    X_train = np.arange(len(series)).reshape(-1, 1) # index of the series\n",
    "    y_train = series.values # values of the series\n",
    "\n",
    "    # Initialize KNN model\n",
    "    knn = KNeighborsRegressor(n_neighbors=n_neighbors)\n",
    "    knn.fit(X_train, y_train) # input is index, output is value\n",
    "\n",
    "    # Predict the next values using the trained KNN model\n",
    "    last_index = len(series) - 1 # index of the last value in the series\n",
    "    X_forecast = np.arange(last_index + 1, last_index + 1 + forecast_horizon).reshape(-1, 1) # index of the values to forecast so as to predict the values for that index\n",
    "    forecast = knn.predict(X_forecast)\n",
    "\n",
    "    return forecast # return the forecasted values\n",
    "    "
   ]
  },
  {
   "cell_type": "code",
   "execution_count": 212,
   "metadata": {},
   "outputs": [],
   "source": [
    "# this fn takes in group (a df with data for one specific ID), \n",
    "# and returns a lookalike df with forecasted clicks for the next forecast horizon(16days/2weeks) \n",
    "# based on the past window(13days/2weeks) of clicks from the group\n",
    "def add_knn_forecasts(group, forecast_horizon, window):\n",
    "    # group: A DataFrame containing data for one specific ID\n",
    "    group = group.set_index('Date') # set the Date column as the index, these are dates for one specific ID\n",
    "    group = group.asfreq('D', method='ffill') # set the frequency of the index to daily and forward fill the missing values\n",
    "\n",
    "    last_date = group.index.max() # get the last Date in the index (last Date for that specific ID)\n",
    "    forecast_dates = pd.date_range(start=last_date, periods=forecast_horizon + 1, freq='D')[1:] # a range of dates to be forecasted (from after the last Date to the forecast horizon)\n",
    "    forecast_data = {} # for storing forecasted values for each column in forecast_columns (in this case, clicks)\n",
    "\n",
    "    for col in forecast_columns: # in this case, for clicks:\n",
    "        forecast_data[col] = knn_forecast(group[col], window, forecast_horizon, n_neighbors= window) # clicks = (the fn takes in d clicks column for each Date(day) for one specific ID, then returrns the future clicks for the forecast horizon (16days/2weeks))\n",
    "\n",
    "    forecast_df = pd.DataFrame(forecast_data, index=forecast_dates) # a df containing forcasted clicks with forecast_dates as index\n",
    "    forecast_df['is_forecast'] = True # indicates thst these rows have been forecasted\n",
    "\n",
    "    group = group.reset_index() # turning group back to original form\n",
    "    forecast_df = forecast_df.reset_index().rename(columns={'index': 'Date'}) # making forecast_df look exactly like group\n",
    "\n",
    "    return forecast_df # returns the forecasted df with columns: Date, ID, clicks, is_forecast=True)\n"
   ]
  },
  {
   "cell_type": "code",
   "execution_count": 213,
   "metadata": {},
   "outputs": [
    {
     "name": "stderr",
     "output_type": "stream",
     "text": [
      "C:\\Users\\LENOVO\\AppData\\Local\\Temp\\ipykernel_14344\\3228823722.py:7: FutureWarning: Downcasting object dtype arrays on .fillna, .ffill, .bfill is deprecated and will change in a future version. Call result.infer_objects(copy=False) instead. To opt-in to the future behavior, set `pd.set_option('future.no_silent_downcasting', True)`\n",
      "  df['is_forecast'] = df['is_forecast'].fillna(False) # set missing values in is_forecast to False (to show that these rows were not forecasted)\n"
     ]
    }
   ],
   "source": [
    "import math\n",
    "window_size = int(math.sqrt(len(df))) # window size is the square root of the length of the df\n",
    "forecast_horizon = 14\n",
    "forecast_df = add_knn_forecasts(df, forecast_horizon, window_size) # get the forecasted df for that specific ID\n",
    "df = pd.concat([df.reset_index(drop=True), forecast_df]) # concat the df for that ID with its forecasted df and append to empty list of all_data\n",
    "\n",
    "df['is_forecast'] = df['is_forecast'].fillna(False) # set missing values in is_forecast to False (to show that these rows were not forecasted)\n"
   ]
  },
  {
   "cell_type": "code",
   "execution_count": 214,
   "metadata": {},
   "outputs": [
    {
     "data": {
      "text/html": [
       "<div>\n",
       "<style scoped>\n",
       "    .dataframe tbody tr th:only-of-type {\n",
       "        vertical-align: middle;\n",
       "    }\n",
       "\n",
       "    .dataframe tbody tr th {\n",
       "        vertical-align: top;\n",
       "    }\n",
       "\n",
       "    .dataframe thead th {\n",
       "        text-align: right;\n",
       "    }\n",
       "</style>\n",
       "<table border=\"1\" class=\"dataframe\">\n",
       "  <thead>\n",
       "    <tr style=\"text-align: right;\">\n",
       "      <th></th>\n",
       "      <th>Date</th>\n",
       "      <th>Close</th>\n",
       "      <th>Only_Date</th>\n",
       "      <th>Only_Time</th>\n",
       "      <th>is_forecast</th>\n",
       "    </tr>\n",
       "  </thead>\n",
       "  <tbody>\n",
       "    <tr>\n",
       "      <th>0</th>\n",
       "      <td>2023-01-01 23:58:00</td>\n",
       "      <td>448.08</td>\n",
       "      <td>2023-01-01</td>\n",
       "      <td>23:58:00</td>\n",
       "      <td>False</td>\n",
       "    </tr>\n",
       "    <tr>\n",
       "      <th>1</th>\n",
       "      <td>2023-01-02 23:58:00</td>\n",
       "      <td>448.08</td>\n",
       "      <td>2023-01-02</td>\n",
       "      <td>23:58:00</td>\n",
       "      <td>False</td>\n",
       "    </tr>\n",
       "    <tr>\n",
       "      <th>2</th>\n",
       "      <td>2023-01-03 23:58:00</td>\n",
       "      <td>448.55</td>\n",
       "      <td>2023-01-03</td>\n",
       "      <td>23:58:00</td>\n",
       "      <td>False</td>\n",
       "    </tr>\n",
       "    <tr>\n",
       "      <th>3</th>\n",
       "      <td>2023-01-04 23:58:00</td>\n",
       "      <td>449.01</td>\n",
       "      <td>2023-01-04</td>\n",
       "      <td>23:58:00</td>\n",
       "      <td>False</td>\n",
       "    </tr>\n",
       "    <tr>\n",
       "      <th>4</th>\n",
       "      <td>2023-01-05 23:58:00</td>\n",
       "      <td>449.53</td>\n",
       "      <td>2023-01-05</td>\n",
       "      <td>23:58:00</td>\n",
       "      <td>False</td>\n",
       "    </tr>\n",
       "  </tbody>\n",
       "</table>\n",
       "</div>"
      ],
      "text/plain": [
       "                 Date   Close   Only_Date Only_Time  is_forecast\n",
       "0 2023-01-01 23:58:00  448.08  2023-01-01  23:58:00        False\n",
       "1 2023-01-02 23:58:00  448.08  2023-01-02  23:58:00        False\n",
       "2 2023-01-03 23:58:00  448.55  2023-01-03  23:58:00        False\n",
       "3 2023-01-04 23:58:00  449.01  2023-01-04  23:58:00        False\n",
       "4 2023-01-05 23:58:00  449.53  2023-01-05  23:58:00        False"
      ]
     },
     "execution_count": 214,
     "metadata": {},
     "output_type": "execute_result"
    }
   ],
   "source": [
    "df.head()"
   ]
  },
  {
   "cell_type": "code",
   "execution_count": 215,
   "metadata": {},
   "outputs": [],
   "source": [
    "train = df[df['is_forecast'] == False]\n",
    "test = df[df['is_forecast'] == True] # test = a df containing only forecasted rows"
   ]
  },
  {
   "cell_type": "code",
   "execution_count": 216,
   "metadata": {},
   "outputs": [
    {
     "data": {
      "text/html": [
       "<div>\n",
       "<style scoped>\n",
       "    .dataframe tbody tr th:only-of-type {\n",
       "        vertical-align: middle;\n",
       "    }\n",
       "\n",
       "    .dataframe tbody tr th {\n",
       "        vertical-align: top;\n",
       "    }\n",
       "\n",
       "    .dataframe thead th {\n",
       "        text-align: right;\n",
       "    }\n",
       "</style>\n",
       "<table border=\"1\" class=\"dataframe\">\n",
       "  <thead>\n",
       "    <tr style=\"text-align: right;\">\n",
       "      <th></th>\n",
       "      <th>Date</th>\n",
       "      <th>Close</th>\n",
       "      <th>Only_Date</th>\n",
       "      <th>Only_Time</th>\n",
       "      <th>is_forecast</th>\n",
       "    </tr>\n",
       "  </thead>\n",
       "  <tbody>\n",
       "    <tr>\n",
       "      <th>0</th>\n",
       "      <td>2024-05-07 23:58:00</td>\n",
       "      <td>1248.522727</td>\n",
       "      <td>NaN</td>\n",
       "      <td>NaN</td>\n",
       "      <td>True</td>\n",
       "    </tr>\n",
       "    <tr>\n",
       "      <th>1</th>\n",
       "      <td>2024-05-08 23:58:00</td>\n",
       "      <td>1248.522727</td>\n",
       "      <td>NaN</td>\n",
       "      <td>NaN</td>\n",
       "      <td>True</td>\n",
       "    </tr>\n",
       "    <tr>\n",
       "      <th>2</th>\n",
       "      <td>2024-05-09 23:58:00</td>\n",
       "      <td>1248.522727</td>\n",
       "      <td>NaN</td>\n",
       "      <td>NaN</td>\n",
       "      <td>True</td>\n",
       "    </tr>\n",
       "    <tr>\n",
       "      <th>3</th>\n",
       "      <td>2024-05-10 23:58:00</td>\n",
       "      <td>1248.522727</td>\n",
       "      <td>NaN</td>\n",
       "      <td>NaN</td>\n",
       "      <td>True</td>\n",
       "    </tr>\n",
       "    <tr>\n",
       "      <th>4</th>\n",
       "      <td>2024-05-11 23:58:00</td>\n",
       "      <td>1248.522727</td>\n",
       "      <td>NaN</td>\n",
       "      <td>NaN</td>\n",
       "      <td>True</td>\n",
       "    </tr>\n",
       "  </tbody>\n",
       "</table>\n",
       "</div>"
      ],
      "text/plain": [
       "                 Date        Close Only_Date Only_Time  is_forecast\n",
       "0 2024-05-07 23:58:00  1248.522727       NaN       NaN         True\n",
       "1 2024-05-08 23:58:00  1248.522727       NaN       NaN         True\n",
       "2 2024-05-09 23:58:00  1248.522727       NaN       NaN         True\n",
       "3 2024-05-10 23:58:00  1248.522727       NaN       NaN         True\n",
       "4 2024-05-11 23:58:00  1248.522727       NaN       NaN         True"
      ]
     },
     "execution_count": 216,
     "metadata": {},
     "output_type": "execute_result"
    }
   ],
   "source": [
    "test.head()"
   ]
  },
  {
   "cell_type": "code",
   "execution_count": 217,
   "metadata": {},
   "outputs": [
    {
     "name": "stderr",
     "output_type": "stream",
     "text": [
      "C:\\Users\\LENOVO\\AppData\\Local\\Temp\\ipykernel_14344\\564849985.py:2: SettingWithCopyWarning: \n",
      "A value is trying to be set on a copy of a slice from a DataFrame.\n",
      "Try using .loc[row_indexer,col_indexer] = value instead\n",
      "\n",
      "See the caveats in the documentation: https://pandas.pydata.org/pandas-docs/stable/user_guide/indexing.html#returning-a-view-versus-a-copy\n",
      "  sub['Date'] = pd.date_range(start='2024-05-22 23:58:00', periods=len(sub), freq='D') # set the Date column to a range of dates from 2021-07-01 to 16 days after\n",
      "C:\\Users\\LENOVO\\AppData\\Local\\Temp\\ipykernel_14344\\564849985.py:4: SettingWithCopyWarning: \n",
      "A value is trying to be set on a copy of a slice from a DataFrame.\n",
      "Try using .loc[row_indexer,col_indexer] = value instead\n",
      "\n",
      "See the caveats in the documentation: https://pandas.pydata.org/pandas-docs/stable/user_guide/indexing.html#returning-a-view-versus-a-copy\n",
      "  sub['Date'] = sub['Date'].dt.strftime('%-m/%-d/%Y %H:%M:%S')\n"
     ]
    }
   ],
   "source": [
    "sub = test[['Date', 'Close']] # sub = a df containing only Date and close columns\n",
    "sub['Date'] = pd.date_range(start='2024-05-22 23:58:00', periods=len(sub), freq='D') # set the Date column to a range of dates from 2021-07-01 to 16 days after\n",
    "# Format 'Date' column to match the desired format\n",
    "sub['Date'] = sub['Date'].dt.strftime('%-m/%-d/%Y %H:%M:%S')"
   ]
  },
  {
   "cell_type": "code",
   "execution_count": 218,
   "metadata": {},
   "outputs": [],
   "source": [
    "# # Set the start_date with four-digit year including century\n",
    "# start_date = pd.to_datetime('2024-05-22 23:58:00')\n",
    "\n",
    "# # Generate date list with desired length\n",
    "# date_list = pd.date_range(start=start_date, periods=len(sub), freq='D')\n",
    "\n",
    "# # Assign the formatted date list to the 'Date' column\n",
    "# sub['Date'] = date_list.strftime('%m/%d/%Y %H:%M:%S')"
   ]
  },
  {
   "cell_type": "code",
   "execution_count": 219,
   "metadata": {},
   "outputs": [],
   "source": [
    "# # Convert 'Date' column to datetime\n",
    "# sub['Date'] = pd.to_datetime(sub['Date'])\n",
    "\n",
    "# # Format dates to remove leading zeros in month and day\n",
    "# sub['Date'] = sub['Date'].dt.strftime('%-m/%-d/%Y %H:%M:%S')\n"
   ]
  },
  {
   "cell_type": "code",
   "execution_count": 220,
   "metadata": {},
   "outputs": [],
   "source": [
    "data = {\n",
    "    'Date': [\n",
    "        '5/22/2024 23:58:00', '5/23/2024 23:58:00', '5/24/2024 23:58:00',\n",
    "        '5/25/2024 23:58:00', '5/26/2024 23:58:00', '5/27/2024 23:58:00',\n",
    "        '5/28/2024 23:58:00', '5/29/2024 23:58:00', '5/30/2024 23:58:00',\n",
    "        '5/31/2024 23:58:00', '6/1/2024 23:58:00', '6/2/2024 23:58:00',\n",
    "        '6/3/2024 23:58:00', '6/4/2024 23:58:00'\n",
    "    ],\n",
    "    'Close': [1248.522727] * 14\n",
    "}\n",
    "df = pd.DataFrame(data)"
   ]
  },
  {
   "cell_type": "code",
   "execution_count": 221,
   "metadata": {},
   "outputs": [],
   "source": [
    "# # Define the data\n",
    "# data = {\n",
    "#     'Date': [\n",
    "#         '1/1/2023 23:58:00', '1/2/2023 23:58:00', '1/3/2023 23:58:00',\n",
    "#         '1/4/2023 23:58:00', '1/5/2023 23:58:00', '1/6/2023 23:58:00',\n",
    "#         '1/7/2023 23:58:00', '1/8/2023 23:58:00', '1/9/2023 23:58:00',\n",
    "#         '1/10/2023 23:58:00', '1/11/2023 23:58:00', '1/12/2023 23:58:00',\n",
    "#         '1/13/2023 23:58:00', '1/14/2023 23:58:00'\n",
    "#     ],\n",
    "#     'Close': [1248.522727] * 14\n",
    "# }\n",
    "\n",
    "# # Create DataFrame\n",
    "# df = pd.DataFrame(data)"
   ]
  },
  {
   "cell_type": "code",
   "execution_count": 222,
   "metadata": {},
   "outputs": [
    {
     "name": "stderr",
     "output_type": "stream",
     "text": [
      "C:\\Users\\LENOVO\\AppData\\Local\\Temp\\ipykernel_14344\\3416355030.py:1: SettingWithCopyWarning: \n",
      "A value is trying to be set on a copy of a slice from a DataFrame.\n",
      "Try using .loc[row_indexer,col_indexer] = value instead\n",
      "\n",
      "See the caveats in the documentation: https://pandas.pydata.org/pandas-docs/stable/user_guide/indexing.html#returning-a-view-versus-a-copy\n",
      "  sub['Date'] = data['Date']\n"
     ]
    }
   ],
   "source": [
    "sub['Date'] = data['Date']"
   ]
  },
  {
   "cell_type": "code",
   "execution_count": 223,
   "metadata": {},
   "outputs": [
    {
     "data": {
      "text/html": [
       "<div>\n",
       "<style scoped>\n",
       "    .dataframe tbody tr th:only-of-type {\n",
       "        vertical-align: middle;\n",
       "    }\n",
       "\n",
       "    .dataframe tbody tr th {\n",
       "        vertical-align: top;\n",
       "    }\n",
       "\n",
       "    .dataframe thead th {\n",
       "        text-align: right;\n",
       "    }\n",
       "</style>\n",
       "<table border=\"1\" class=\"dataframe\">\n",
       "  <thead>\n",
       "    <tr style=\"text-align: right;\">\n",
       "      <th></th>\n",
       "      <th>Date</th>\n",
       "      <th>Close</th>\n",
       "    </tr>\n",
       "  </thead>\n",
       "  <tbody>\n",
       "    <tr>\n",
       "      <th>0</th>\n",
       "      <td>5/22/2024 23:58:00</td>\n",
       "      <td>1248.522727</td>\n",
       "    </tr>\n",
       "    <tr>\n",
       "      <th>1</th>\n",
       "      <td>5/23/2024 23:58:00</td>\n",
       "      <td>1248.522727</td>\n",
       "    </tr>\n",
       "    <tr>\n",
       "      <th>2</th>\n",
       "      <td>5/24/2024 23:58:00</td>\n",
       "      <td>1248.522727</td>\n",
       "    </tr>\n",
       "    <tr>\n",
       "      <th>3</th>\n",
       "      <td>5/25/2024 23:58:00</td>\n",
       "      <td>1248.522727</td>\n",
       "    </tr>\n",
       "    <tr>\n",
       "      <th>4</th>\n",
       "      <td>5/26/2024 23:58:00</td>\n",
       "      <td>1248.522727</td>\n",
       "    </tr>\n",
       "    <tr>\n",
       "      <th>5</th>\n",
       "      <td>5/27/2024 23:58:00</td>\n",
       "      <td>1248.522727</td>\n",
       "    </tr>\n",
       "    <tr>\n",
       "      <th>6</th>\n",
       "      <td>5/28/2024 23:58:00</td>\n",
       "      <td>1248.522727</td>\n",
       "    </tr>\n",
       "    <tr>\n",
       "      <th>7</th>\n",
       "      <td>5/29/2024 23:58:00</td>\n",
       "      <td>1248.522727</td>\n",
       "    </tr>\n",
       "    <tr>\n",
       "      <th>8</th>\n",
       "      <td>5/30/2024 23:58:00</td>\n",
       "      <td>1248.522727</td>\n",
       "    </tr>\n",
       "    <tr>\n",
       "      <th>9</th>\n",
       "      <td>5/31/2024 23:58:00</td>\n",
       "      <td>1248.522727</td>\n",
       "    </tr>\n",
       "    <tr>\n",
       "      <th>10</th>\n",
       "      <td>6/1/2024 23:58:00</td>\n",
       "      <td>1248.522727</td>\n",
       "    </tr>\n",
       "    <tr>\n",
       "      <th>11</th>\n",
       "      <td>6/2/2024 23:58:00</td>\n",
       "      <td>1248.522727</td>\n",
       "    </tr>\n",
       "    <tr>\n",
       "      <th>12</th>\n",
       "      <td>6/3/2024 23:58:00</td>\n",
       "      <td>1248.522727</td>\n",
       "    </tr>\n",
       "    <tr>\n",
       "      <th>13</th>\n",
       "      <td>6/4/2024 23:58:00</td>\n",
       "      <td>1248.522727</td>\n",
       "    </tr>\n",
       "  </tbody>\n",
       "</table>\n",
       "</div>"
      ],
      "text/plain": [
       "                  Date        Close\n",
       "0   5/22/2024 23:58:00  1248.522727\n",
       "1   5/23/2024 23:58:00  1248.522727\n",
       "2   5/24/2024 23:58:00  1248.522727\n",
       "3   5/25/2024 23:58:00  1248.522727\n",
       "4   5/26/2024 23:58:00  1248.522727\n",
       "5   5/27/2024 23:58:00  1248.522727\n",
       "6   5/28/2024 23:58:00  1248.522727\n",
       "7   5/29/2024 23:58:00  1248.522727\n",
       "8   5/30/2024 23:58:00  1248.522727\n",
       "9   5/31/2024 23:58:00  1248.522727\n",
       "10   6/1/2024 23:58:00  1248.522727\n",
       "11   6/2/2024 23:58:00  1248.522727\n",
       "12   6/3/2024 23:58:00  1248.522727\n",
       "13   6/4/2024 23:58:00  1248.522727"
      ]
     },
     "execution_count": 223,
     "metadata": {},
     "output_type": "execute_result"
    }
   ],
   "source": [
    "sub"
   ]
  },
  {
   "cell_type": "code",
   "execution_count": 224,
   "metadata": {},
   "outputs": [],
   "source": [
    "sub.to_csv('submission.csv', index=False)"
   ]
  },
  {
   "cell_type": "code",
   "execution_count": null,
   "metadata": {},
   "outputs": [],
   "source": []
  }
 ],
 "metadata": {
  "kernelspec": {
   "display_name": "venv",
   "language": "python",
   "name": "python3"
  },
  "language_info": {
   "codemirror_mode": {
    "name": "ipython",
    "version": 3
   },
   "file_extension": ".py",
   "mimetype": "text/x-python",
   "name": "python",
   "nbconvert_exporter": "python",
   "pygments_lexer": "ipython3",
   "version": "3.10.10"
  }
 },
 "nbformat": 4,
 "nbformat_minor": 2
}
