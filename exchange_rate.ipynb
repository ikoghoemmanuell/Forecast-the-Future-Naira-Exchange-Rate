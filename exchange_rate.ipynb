{
 "cells": [
  {
   "cell_type": "code",
   "execution_count": 1,
   "metadata": {},
   "outputs": [],
   "source": [
    "import pandas as pd\n",
    "import seaborn as sns\n",
    "import numpy as np\n",
    "from sklearn.neighbors import KNeighborsRegressor"
   ]
  },
  {
   "cell_type": "code",
   "execution_count": 2,
   "metadata": {},
   "outputs": [],
   "source": [
    "df = pd.read_csv('Competition_data.csv')\n",
    "sub = pd.read_csv('sub.csv')"
   ]
  },
  {
   "cell_type": "code",
   "execution_count": 3,
   "metadata": {},
   "outputs": [
    {
     "data": {
      "text/html": [
       "<div>\n",
       "<style scoped>\n",
       "    .dataframe tbody tr th:only-of-type {\n",
       "        vertical-align: middle;\n",
       "    }\n",
       "\n",
       "    .dataframe tbody tr th {\n",
       "        vertical-align: top;\n",
       "    }\n",
       "\n",
       "    .dataframe thead th {\n",
       "        text-align: right;\n",
       "    }\n",
       "</style>\n",
       "<table border=\"1\" class=\"dataframe\">\n",
       "  <thead>\n",
       "    <tr style=\"text-align: right;\">\n",
       "      <th></th>\n",
       "      <th>Date</th>\n",
       "      <th>Close</th>\n",
       "    </tr>\n",
       "  </thead>\n",
       "  <tbody>\n",
       "    <tr>\n",
       "      <th>0</th>\n",
       "      <td>1/1/2023 23:58:00</td>\n",
       "      <td>448.08</td>\n",
       "    </tr>\n",
       "    <tr>\n",
       "      <th>1</th>\n",
       "      <td>1/2/2023 23:58:00</td>\n",
       "      <td>448.08</td>\n",
       "    </tr>\n",
       "    <tr>\n",
       "      <th>2</th>\n",
       "      <td>1/3/2023 23:58:00</td>\n",
       "      <td>448.55</td>\n",
       "    </tr>\n",
       "    <tr>\n",
       "      <th>3</th>\n",
       "      <td>1/4/2023 23:58:00</td>\n",
       "      <td>449.01</td>\n",
       "    </tr>\n",
       "    <tr>\n",
       "      <th>4</th>\n",
       "      <td>1/5/2023 23:58:00</td>\n",
       "      <td>449.53</td>\n",
       "    </tr>\n",
       "  </tbody>\n",
       "</table>\n",
       "</div>"
      ],
      "text/plain": [
       "                Date   Close\n",
       "0  1/1/2023 23:58:00  448.08\n",
       "1  1/2/2023 23:58:00  448.08\n",
       "2  1/3/2023 23:58:00  448.55\n",
       "3  1/4/2023 23:58:00  449.01\n",
       "4  1/5/2023 23:58:00  449.53"
      ]
     },
     "execution_count": 3,
     "metadata": {},
     "output_type": "execute_result"
    }
   ],
   "source": [
    "df.head()"
   ]
  },
  {
   "cell_type": "code",
   "execution_count": 4,
   "metadata": {},
   "outputs": [],
   "source": [
    "# Convert 'Date' column to datetime format\n",
    "df['Date'] = pd.to_datetime(df['Date'])\n",
    "\n",
    "# Extract date and time into separate columns\n",
    "df['Only_Date'] = df['Date'].dt.date\n",
    "df['Only_Time'] = df['Date'].dt.time\n",
    "\n",
    "# Sort the DataFrame by 'Only_Date' and 'Only_Time'\n",
    "df = df.sort_values(by=['Only_Date', 'Only_Time'])\n",
    "\n",
    "df['Date'] = df['Only_Date']\n",
    "df['Date'] = pd.to_datetime(df['Date'])\n",
    "df.drop(['Only_Date', 'Only_Time'], axis=1, inplace=True)\n",
    "\n",
    "# Reset index if desired\n",
    "df.reset_index(drop=True, inplace=True)"
   ]
  },
  {
   "cell_type": "code",
   "execution_count": 5,
   "metadata": {},
   "outputs": [
    {
     "data": {
      "text/html": [
       "<div>\n",
       "<style scoped>\n",
       "    .dataframe tbody tr th:only-of-type {\n",
       "        vertical-align: middle;\n",
       "    }\n",
       "\n",
       "    .dataframe tbody tr th {\n",
       "        vertical-align: top;\n",
       "    }\n",
       "\n",
       "    .dataframe thead th {\n",
       "        text-align: right;\n",
       "    }\n",
       "</style>\n",
       "<table border=\"1\" class=\"dataframe\">\n",
       "  <thead>\n",
       "    <tr style=\"text-align: right;\">\n",
       "      <th></th>\n",
       "      <th>Date</th>\n",
       "      <th>Close</th>\n",
       "    </tr>\n",
       "  </thead>\n",
       "  <tbody>\n",
       "    <tr>\n",
       "      <th>0</th>\n",
       "      <td>2023-01-01</td>\n",
       "      <td>448.08</td>\n",
       "    </tr>\n",
       "    <tr>\n",
       "      <th>1</th>\n",
       "      <td>2023-01-02</td>\n",
       "      <td>448.08</td>\n",
       "    </tr>\n",
       "    <tr>\n",
       "      <th>2</th>\n",
       "      <td>2023-01-03</td>\n",
       "      <td>448.55</td>\n",
       "    </tr>\n",
       "    <tr>\n",
       "      <th>3</th>\n",
       "      <td>2023-01-04</td>\n",
       "      <td>449.01</td>\n",
       "    </tr>\n",
       "    <tr>\n",
       "      <th>4</th>\n",
       "      <td>2023-01-05</td>\n",
       "      <td>449.53</td>\n",
       "    </tr>\n",
       "  </tbody>\n",
       "</table>\n",
       "</div>"
      ],
      "text/plain": [
       "        Date   Close\n",
       "0 2023-01-01  448.08\n",
       "1 2023-01-02  448.08\n",
       "2 2023-01-03  448.55\n",
       "3 2023-01-04  449.01\n",
       "4 2023-01-05  449.53"
      ]
     },
     "execution_count": 5,
     "metadata": {},
     "output_type": "execute_result"
    }
   ],
   "source": [
    "df.head()"
   ]
  },
  {
   "cell_type": "code",
   "execution_count": 6,
   "metadata": {},
   "outputs": [
    {
     "data": {
      "text/plain": [
       "Timestamp('2024-05-06 00:00:00')"
      ]
     },
     "execution_count": 6,
     "metadata": {},
     "output_type": "execute_result"
    }
   ],
   "source": [
    "df.Date.max()"
   ]
  },
  {
   "cell_type": "code",
   "execution_count": 7,
   "metadata": {},
   "outputs": [],
   "source": [
    "import numpy as np\n",
    "import pandas as pd\n",
    "from statsmodels.tsa.arima.model import ARIMA\n",
    "\n",
    "# This function uses ARIMA to forecast future values of a time series using the index as input.\n",
    "def knn_forecast(series, window, forecast_horizon, n_neighbors):\n",
    "    \"\"\"\n",
    "    series: The time series data (e.g., historical_close).\n",
    "    window: Not used in ARIMA, included for compatibility with original function signature.\n",
    "    forecast_horizon: The number of future time steps to forecast.\n",
    "    order: Tuple indicating the order of the ARIMA model (p, d, q).\n",
    "    \"\"\"\n",
    "    # Fit the ARIMA model\n",
    "    model = ARIMA(series, order=(1, 1, 1))\n",
    "    model_fit = model.fit()\n",
    "\n",
    "    # Forecast future values\n",
    "    forecast = model_fit.forecast(steps=forecast_horizon)\n",
    "\n",
    "    return forecast\n",
    "\n",
    "# Example usage:\n",
    "# Assuming `historical_close` is your time series data (a pandas Series).\n",
    "forecast_columns = ['Close'] # This can be used as needed in your broader code context.\n",
    "\n",
    "\n",
    "# Call the function\n",
    "# forecast = knn_forecast(historical_close, window=13, forecast_horizon=forecast_horizon, order=order)\n",
    "\n",
    "    "
   ]
  },
  {
   "cell_type": "code",
   "execution_count": 8,
   "metadata": {},
   "outputs": [],
   "source": [
    "# this fn takes in group (a df with data for one specific ID), \n",
    "# and returns a lookalike df with forecasted clicks for the next forecast horizon(16days/2weeks) \n",
    "# based on the past window(13days/2weeks) of clicks from the group\n",
    "def add_knn_forecasts(group, forecast_horizon, window):\n",
    "    # group: A DataFrame containing data for one specific ID\n",
    "    group = group.set_index('Date') # set the Date column as the index, these are dates for one specific ID\n",
    "    group = group.asfreq('D', method='ffill') # set the frequency of the index to daily and forward fill the missing values\n",
    "\n",
    "    last_date = group.index.max() # get the last Date in the index (last Date for that specific ID)\n",
    "    forecast_dates = pd.date_range(start=last_date, periods=forecast_horizon + 1, freq='D')[1:] # a range of dates to be forecasted (from after the last Date to the forecast horizon)\n",
    "    forecast_data = {} # for storing forecasted values for each column in forecast_columns (in this case, clicks)\n",
    "\n",
    "    for col in forecast_columns: # in this case, for clicks:\n",
    "        forecast_data[col] = knn_forecast(group[col], window, forecast_horizon, n_neighbors= window) # clicks = (the fn takes in d clicks column for each Date(day) for one specific ID, then returrns the future clicks for the forecast horizon (16days/2weeks))\n",
    "\n",
    "    forecast_df = pd.DataFrame(forecast_data, index=forecast_dates) # a df containing forcasted clicks with forecast_dates as index\n",
    "    forecast_df['is_forecast'] = True # indicates thst these rows have been forecasted\n",
    "\n",
    "    group = group.reset_index() # turning group back to original form\n",
    "    forecast_df = forecast_df.reset_index().rename(columns={'index': 'Date'}) # making forecast_df look exactly like group\n",
    "\n",
    "    return forecast_df # returns the forecasted df with columns: Date, ID, clicks, is_forecast=True)\n"
   ]
  },
  {
   "cell_type": "code",
   "execution_count": 9,
   "metadata": {},
   "outputs": [
    {
     "name": "stderr",
     "output_type": "stream",
     "text": [
      "c:\\Users\\LENOVO\\Music\\Ad-Engagement-Forecasting\\venv\\lib\\site-packages\\statsmodels\\tsa\\statespace\\sarimax.py:966: UserWarning: Non-stationary starting autoregressive parameters found. Using zeros as starting parameters.\n",
      "  warn('Non-stationary starting autoregressive parameters'\n",
      "c:\\Users\\LENOVO\\Music\\Ad-Engagement-Forecasting\\venv\\lib\\site-packages\\statsmodels\\tsa\\statespace\\sarimax.py:978: UserWarning: Non-invertible starting MA parameters found. Using zeros as starting parameters.\n",
      "  warn('Non-invertible starting MA parameters found.'\n"
     ]
    },
    {
     "name": "stderr",
     "output_type": "stream",
     "text": [
      "C:\\Users\\LENOVO\\AppData\\Local\\Temp\\ipykernel_11012\\3228823722.py:7: FutureWarning: Downcasting object dtype arrays on .fillna, .ffill, .bfill is deprecated and will change in a future version. Call result.infer_objects(copy=False) instead. To opt-in to the future behavior, set `pd.set_option('future.no_silent_downcasting', True)`\n",
      "  df['is_forecast'] = df['is_forecast'].fillna(False) # set missing values in is_forecast to False (to show that these rows were not forecasted)\n"
     ]
    }
   ],
   "source": [
    "import math\n",
    "window_size = int(math.sqrt(len(df))) # window size is the square root of the length of the df\n",
    "forecast_horizon = 14\n",
    "forecast_df = add_knn_forecasts(df, forecast_horizon, window_size) # get the forecasted df for that specific ID\n",
    "df = pd.concat([df.reset_index(drop=True), forecast_df]) # concat the df for that ID with its forecasted df and append to empty list of all_data\n",
    "\n",
    "df['is_forecast'] = df['is_forecast'].fillna(False) # set missing values in is_forecast to False (to show that these rows were not forecasted)\n"
   ]
  },
  {
   "cell_type": "code",
   "execution_count": 10,
   "metadata": {},
   "outputs": [
    {
     "data": {
      "text/html": [
       "<div>\n",
       "<style scoped>\n",
       "    .dataframe tbody tr th:only-of-type {\n",
       "        vertical-align: middle;\n",
       "    }\n",
       "\n",
       "    .dataframe tbody tr th {\n",
       "        vertical-align: top;\n",
       "    }\n",
       "\n",
       "    .dataframe thead th {\n",
       "        text-align: right;\n",
       "    }\n",
       "</style>\n",
       "<table border=\"1\" class=\"dataframe\">\n",
       "  <thead>\n",
       "    <tr style=\"text-align: right;\">\n",
       "      <th></th>\n",
       "      <th>Date</th>\n",
       "      <th>Close</th>\n",
       "      <th>is_forecast</th>\n",
       "    </tr>\n",
       "  </thead>\n",
       "  <tbody>\n",
       "    <tr>\n",
       "      <th>0</th>\n",
       "      <td>2023-01-01</td>\n",
       "      <td>448.08</td>\n",
       "      <td>False</td>\n",
       "    </tr>\n",
       "    <tr>\n",
       "      <th>1</th>\n",
       "      <td>2023-01-02</td>\n",
       "      <td>448.08</td>\n",
       "      <td>False</td>\n",
       "    </tr>\n",
       "    <tr>\n",
       "      <th>2</th>\n",
       "      <td>2023-01-03</td>\n",
       "      <td>448.55</td>\n",
       "      <td>False</td>\n",
       "    </tr>\n",
       "    <tr>\n",
       "      <th>3</th>\n",
       "      <td>2023-01-04</td>\n",
       "      <td>449.01</td>\n",
       "      <td>False</td>\n",
       "    </tr>\n",
       "    <tr>\n",
       "      <th>4</th>\n",
       "      <td>2023-01-05</td>\n",
       "      <td>449.53</td>\n",
       "      <td>False</td>\n",
       "    </tr>\n",
       "  </tbody>\n",
       "</table>\n",
       "</div>"
      ],
      "text/plain": [
       "        Date   Close  is_forecast\n",
       "0 2023-01-01  448.08        False\n",
       "1 2023-01-02  448.08        False\n",
       "2 2023-01-03  448.55        False\n",
       "3 2023-01-04  449.01        False\n",
       "4 2023-01-05  449.53        False"
      ]
     },
     "execution_count": 10,
     "metadata": {},
     "output_type": "execute_result"
    }
   ],
   "source": [
    "df.head()"
   ]
  },
  {
   "cell_type": "code",
   "execution_count": 11,
   "metadata": {},
   "outputs": [],
   "source": [
    "train = df[df['is_forecast'] == False]\n",
    "test = df[df['is_forecast'] == True] # test = a df containing only forecasted rows"
   ]
  },
  {
   "cell_type": "code",
   "execution_count": 12,
   "metadata": {},
   "outputs": [
    {
     "data": {
      "text/html": [
       "<div>\n",
       "<style scoped>\n",
       "    .dataframe tbody tr th:only-of-type {\n",
       "        vertical-align: middle;\n",
       "    }\n",
       "\n",
       "    .dataframe tbody tr th {\n",
       "        vertical-align: top;\n",
       "    }\n",
       "\n",
       "    .dataframe thead th {\n",
       "        text-align: right;\n",
       "    }\n",
       "</style>\n",
       "<table border=\"1\" class=\"dataframe\">\n",
       "  <thead>\n",
       "    <tr style=\"text-align: right;\">\n",
       "      <th></th>\n",
       "      <th>Date</th>\n",
       "      <th>Close</th>\n",
       "      <th>is_forecast</th>\n",
       "    </tr>\n",
       "  </thead>\n",
       "  <tbody>\n",
       "    <tr>\n",
       "      <th>0</th>\n",
       "      <td>2024-05-07</td>\n",
       "      <td>1383.967510</td>\n",
       "      <td>True</td>\n",
       "    </tr>\n",
       "    <tr>\n",
       "      <th>1</th>\n",
       "      <td>2024-05-08</td>\n",
       "      <td>1383.967398</td>\n",
       "      <td>True</td>\n",
       "    </tr>\n",
       "    <tr>\n",
       "      <th>2</th>\n",
       "      <td>2024-05-09</td>\n",
       "      <td>1383.967398</td>\n",
       "      <td>True</td>\n",
       "    </tr>\n",
       "    <tr>\n",
       "      <th>3</th>\n",
       "      <td>2024-05-10</td>\n",
       "      <td>1383.967398</td>\n",
       "      <td>True</td>\n",
       "    </tr>\n",
       "    <tr>\n",
       "      <th>4</th>\n",
       "      <td>2024-05-11</td>\n",
       "      <td>1383.967398</td>\n",
       "      <td>True</td>\n",
       "    </tr>\n",
       "  </tbody>\n",
       "</table>\n",
       "</div>"
      ],
      "text/plain": [
       "        Date        Close  is_forecast\n",
       "0 2024-05-07  1383.967510         True\n",
       "1 2024-05-08  1383.967398         True\n",
       "2 2024-05-09  1383.967398         True\n",
       "3 2024-05-10  1383.967398         True\n",
       "4 2024-05-11  1383.967398         True"
      ]
     },
     "execution_count": 12,
     "metadata": {},
     "output_type": "execute_result"
    }
   ],
   "source": [
    "test.head()"
   ]
  },
  {
   "cell_type": "code",
   "execution_count": 13,
   "metadata": {},
   "outputs": [],
   "source": [
    "# sub = test[['Date', 'Close']] # sub = a df containing only Date and close columns\n",
    "# sub['Date'] = pd.date_range(start='2024-05-22 23:58:00', periods=len(sub), freq='D') # set the Date column to a range of dates from 2021-07-01 to 16 days after\n",
    "# # Format 'Date' column to match the desired format\n",
    "# sub['Date'] = sub['Date'].dt.strftime('%-m/%-d/%Y %H:%M:%S')"
   ]
  },
  {
   "cell_type": "code",
   "execution_count": 14,
   "metadata": {},
   "outputs": [],
   "source": [
    "# # Set the start_date with four-digit year including century\n",
    "# start_date = pd.to_datetime('2024-05-22 23:58:00')\n",
    "\n",
    "# # Generate date list with desired length\n",
    "# date_list = pd.date_range(start=start_date, periods=len(sub), freq='D')\n",
    "\n",
    "# # Assign the formatted date list to the 'Date' column\n",
    "# sub['Date'] = date_list.strftime('%m/%d/%Y %H:%M:%S')"
   ]
  },
  {
   "cell_type": "code",
   "execution_count": 15,
   "metadata": {},
   "outputs": [],
   "source": [
    "# # Convert 'Date' column to datetime\n",
    "# sub['Date'] = pd.to_datetime(sub['Date'])\n",
    "\n",
    "# # Format dates to remove leading zeros in month and day\n",
    "# sub['Date'] = sub['Date'].dt.strftime('%-m/%-d/%Y %H:%M:%S')\n"
   ]
  },
  {
   "cell_type": "code",
   "execution_count": 16,
   "metadata": {},
   "outputs": [],
   "source": [
    "# data = {\n",
    "#     'Date': [\n",
    "#         '5/22/2024 23:58:00', '5/23/2024 23:58:00', '5/24/2024 23:58:00',\n",
    "#         '5/25/2024 23:58:00', '5/26/2024 23:58:00', '5/27/2024 23:58:00',\n",
    "#         '5/28/2024 23:58:00', '5/29/2024 23:58:00', '5/30/2024 23:58:00',\n",
    "#         '5/31/2024 23:58:00', '6/1/2024 23:58:00', '6/2/2024 23:58:00',\n",
    "#         '6/3/2024 23:58:00', '6/4/2024 23:58:00'\n",
    "#     ],\n",
    "#     'Close': [1248.522727] * 14\n",
    "# }\n",
    "# df = pd.DataFrame(data)"
   ]
  },
  {
   "cell_type": "code",
   "execution_count": 17,
   "metadata": {},
   "outputs": [],
   "source": [
    "# # Define the data\n",
    "# data = {\n",
    "#     'Date': [\n",
    "#         '1/1/2023 23:58:00', '1/2/2023 23:58:00', '1/3/2023 23:58:00',\n",
    "#         '1/4/2023 23:58:00', '1/5/2023 23:58:00', '1/6/2023 23:58:00',\n",
    "#         '1/7/2023 23:58:00', '1/8/2023 23:58:00', '1/9/2023 23:58:00',\n",
    "#         '1/10/2023 23:58:00', '1/11/2023 23:58:00', '1/12/2023 23:58:00',\n",
    "#         '1/13/2023 23:58:00', '1/14/2023 23:58:00'\n",
    "#     ],\n",
    "#     'Close': [1248.522727] * 14\n",
    "# }\n",
    "\n",
    "# # Create DataFrame\n",
    "# df = pd.DataFrame(data)"
   ]
  },
  {
   "cell_type": "code",
   "execution_count": 18,
   "metadata": {},
   "outputs": [],
   "source": [
    "sub['Close'] = test['Close']"
   ]
  },
  {
   "cell_type": "code",
   "execution_count": 19,
   "metadata": {},
   "outputs": [
    {
     "data": {
      "text/html": [
       "<div>\n",
       "<style scoped>\n",
       "    .dataframe tbody tr th:only-of-type {\n",
       "        vertical-align: middle;\n",
       "    }\n",
       "\n",
       "    .dataframe tbody tr th {\n",
       "        vertical-align: top;\n",
       "    }\n",
       "\n",
       "    .dataframe thead th {\n",
       "        text-align: right;\n",
       "    }\n",
       "</style>\n",
       "<table border=\"1\" class=\"dataframe\">\n",
       "  <thead>\n",
       "    <tr style=\"text-align: right;\">\n",
       "      <th></th>\n",
       "      <th>Date</th>\n",
       "      <th>Close</th>\n",
       "    </tr>\n",
       "  </thead>\n",
       "  <tbody>\n",
       "    <tr>\n",
       "      <th>0</th>\n",
       "      <td>2024-05-22</td>\n",
       "      <td>1383.967510</td>\n",
       "    </tr>\n",
       "    <tr>\n",
       "      <th>1</th>\n",
       "      <td>2024-05-23</td>\n",
       "      <td>1383.967398</td>\n",
       "    </tr>\n",
       "    <tr>\n",
       "      <th>2</th>\n",
       "      <td>2024-05-24</td>\n",
       "      <td>1383.967398</td>\n",
       "    </tr>\n",
       "    <tr>\n",
       "      <th>3</th>\n",
       "      <td>2024-05-25</td>\n",
       "      <td>1383.967398</td>\n",
       "    </tr>\n",
       "    <tr>\n",
       "      <th>4</th>\n",
       "      <td>2024-05-26</td>\n",
       "      <td>1383.967398</td>\n",
       "    </tr>\n",
       "  </tbody>\n",
       "</table>\n",
       "</div>"
      ],
      "text/plain": [
       "         Date        Close\n",
       "0  2024-05-22  1383.967510\n",
       "1  2024-05-23  1383.967398\n",
       "2  2024-05-24  1383.967398\n",
       "3  2024-05-25  1383.967398\n",
       "4  2024-05-26  1383.967398"
      ]
     },
     "execution_count": 19,
     "metadata": {},
     "output_type": "execute_result"
    }
   ],
   "source": [
    "sub.head()"
   ]
  },
  {
   "cell_type": "code",
   "execution_count": 20,
   "metadata": {},
   "outputs": [],
   "source": [
    "sub.to_csv('submission.csv', index=False)"
   ]
  },
  {
   "cell_type": "code",
   "execution_count": null,
   "metadata": {},
   "outputs": [],
   "source": []
  }
 ],
 "metadata": {
  "kernelspec": {
   "display_name": "venv",
   "language": "python",
   "name": "python3"
  },
  "language_info": {
   "codemirror_mode": {
    "name": "ipython",
    "version": 3
   },
   "file_extension": ".py",
   "mimetype": "text/x-python",
   "name": "python",
   "nbconvert_exporter": "python",
   "pygments_lexer": "ipython3",
   "version": "3.10.10"
  }
 },
 "nbformat": 4,
 "nbformat_minor": 2
}
