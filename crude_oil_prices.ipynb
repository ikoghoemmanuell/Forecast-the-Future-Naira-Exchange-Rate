{
  "cells": [
    {
      "cell_type": "markdown",
      "metadata": {
        "id": "G0W08xH04Nzv"
      },
      "source": [
        "# Title"
      ]
    },
    {
      "cell_type": "markdown",
      "metadata": {
        "id": "jLTuR-lo4Nzx"
      },
      "source": [
        "# Description"
      ]
    },
    {
      "cell_type": "code",
      "source": [
        "pip install category_encoders"
      ],
      "metadata": {
        "id": "Qmbb_sngwF8q",
        "outputId": "cac5cabe-3422-428a-c80f-984f90da914c",
        "colab": {
          "base_uri": "https://localhost:8080/"
        }
      },
      "execution_count": 47,
      "outputs": [
        {
          "output_type": "stream",
          "name": "stdout",
          "text": [
            "Requirement already satisfied: category_encoders in /usr/local/lib/python3.10/dist-packages (2.6.3)\n",
            "Requirement already satisfied: numpy>=1.14.0 in /usr/local/lib/python3.10/dist-packages (from category_encoders) (1.25.2)\n",
            "Requirement already satisfied: scikit-learn>=0.20.0 in /usr/local/lib/python3.10/dist-packages (from category_encoders) (1.2.2)\n",
            "Requirement already satisfied: scipy>=1.0.0 in /usr/local/lib/python3.10/dist-packages (from category_encoders) (1.11.4)\n",
            "Requirement already satisfied: statsmodels>=0.9.0 in /usr/local/lib/python3.10/dist-packages (from category_encoders) (0.14.2)\n",
            "Requirement already satisfied: pandas>=1.0.5 in /usr/local/lib/python3.10/dist-packages (from category_encoders) (2.0.3)\n",
            "Requirement already satisfied: patsy>=0.5.1 in /usr/local/lib/python3.10/dist-packages (from category_encoders) (0.5.6)\n",
            "Requirement already satisfied: python-dateutil>=2.8.2 in /usr/local/lib/python3.10/dist-packages (from pandas>=1.0.5->category_encoders) (2.8.2)\n",
            "Requirement already satisfied: pytz>=2020.1 in /usr/local/lib/python3.10/dist-packages (from pandas>=1.0.5->category_encoders) (2023.4)\n",
            "Requirement already satisfied: tzdata>=2022.1 in /usr/local/lib/python3.10/dist-packages (from pandas>=1.0.5->category_encoders) (2024.1)\n",
            "Requirement already satisfied: six in /usr/local/lib/python3.10/dist-packages (from patsy>=0.5.1->category_encoders) (1.16.0)\n",
            "Requirement already satisfied: joblib>=1.1.1 in /usr/local/lib/python3.10/dist-packages (from scikit-learn>=0.20.0->category_encoders) (1.4.2)\n",
            "Requirement already satisfied: threadpoolctl>=2.0.0 in /usr/local/lib/python3.10/dist-packages (from scikit-learn>=0.20.0->category_encoders) (3.5.0)\n",
            "Requirement already satisfied: packaging>=21.3 in /usr/local/lib/python3.10/dist-packages (from statsmodels>=0.9.0->category_encoders) (24.1)\n"
          ]
        }
      ]
    },
    {
      "cell_type": "code",
      "source": [
        "!pip install pmdarima"
      ],
      "metadata": {
        "id": "tjMy6CatwySH",
        "outputId": "7f6c8f4e-44a8-4b54-c824-1a925e4bb2fa",
        "colab": {
          "base_uri": "https://localhost:8080/"
        }
      },
      "execution_count": 48,
      "outputs": [
        {
          "output_type": "stream",
          "name": "stdout",
          "text": [
            "Requirement already satisfied: pmdarima in /usr/local/lib/python3.10/dist-packages (2.0.4)\n",
            "Requirement already satisfied: joblib>=0.11 in /usr/local/lib/python3.10/dist-packages (from pmdarima) (1.4.2)\n",
            "Requirement already satisfied: Cython!=0.29.18,!=0.29.31,>=0.29 in /usr/local/lib/python3.10/dist-packages (from pmdarima) (3.0.10)\n",
            "Requirement already satisfied: numpy>=1.21.2 in /usr/local/lib/python3.10/dist-packages (from pmdarima) (1.25.2)\n",
            "Requirement already satisfied: pandas>=0.19 in /usr/local/lib/python3.10/dist-packages (from pmdarima) (2.0.3)\n",
            "Requirement already satisfied: scikit-learn>=0.22 in /usr/local/lib/python3.10/dist-packages (from pmdarima) (1.2.2)\n",
            "Requirement already satisfied: scipy>=1.3.2 in /usr/local/lib/python3.10/dist-packages (from pmdarima) (1.11.4)\n",
            "Requirement already satisfied: statsmodels>=0.13.2 in /usr/local/lib/python3.10/dist-packages (from pmdarima) (0.14.2)\n",
            "Requirement already satisfied: urllib3 in /usr/local/lib/python3.10/dist-packages (from pmdarima) (2.0.7)\n",
            "Requirement already satisfied: setuptools!=50.0.0,>=38.6.0 in /usr/local/lib/python3.10/dist-packages (from pmdarima) (67.7.2)\n",
            "Requirement already satisfied: packaging>=17.1 in /usr/local/lib/python3.10/dist-packages (from pmdarima) (24.1)\n",
            "Requirement already satisfied: python-dateutil>=2.8.2 in /usr/local/lib/python3.10/dist-packages (from pandas>=0.19->pmdarima) (2.8.2)\n",
            "Requirement already satisfied: pytz>=2020.1 in /usr/local/lib/python3.10/dist-packages (from pandas>=0.19->pmdarima) (2023.4)\n",
            "Requirement already satisfied: tzdata>=2022.1 in /usr/local/lib/python3.10/dist-packages (from pandas>=0.19->pmdarima) (2024.1)\n",
            "Requirement already satisfied: threadpoolctl>=2.0.0 in /usr/local/lib/python3.10/dist-packages (from scikit-learn>=0.22->pmdarima) (3.5.0)\n",
            "Requirement already satisfied: patsy>=0.5.6 in /usr/local/lib/python3.10/dist-packages (from statsmodels>=0.13.2->pmdarima) (0.5.6)\n",
            "Requirement already satisfied: six in /usr/local/lib/python3.10/dist-packages (from patsy>=0.5.6->statsmodels>=0.13.2->pmdarima) (1.16.0)\n"
          ]
        }
      ]
    },
    {
      "cell_type": "markdown",
      "metadata": {
        "id": "h76n_a9e4Nzy"
      },
      "source": [
        "# Importation"
      ]
    },
    {
      "cell_type": "code",
      "execution_count": 49,
      "metadata": {
        "id": "h9KtdvmP4Nzz"
      },
      "outputs": [],
      "source": [
        "import pandas as pd\n",
        "import numpy as np\n",
        "import matplotlib.pyplot as plt\n",
        "import seaborn as sns\n",
        "import plotly.express as px\n",
        "import plotly.graph_objects as go\n",
        "\n",
        "import matplotlib.dates as mdates\n",
        "%matplotlib inline\n",
        "from itertools import product\n",
        "\n",
        "from statsmodels.tsa.stattools import adfuller\n",
        "from statsmodels.tsa.stattools import kpss\n",
        "from statsmodels.graphics.tsaplots import plot_acf, plot_pacf\n",
        "\n",
        "from sklearn.impute import SimpleImputer\n",
        "from sklearn.preprocessing import OneHotEncoder, LabelEncoder\n",
        "from category_encoders.binary import BinaryEncoder\n",
        "from sklearn.preprocessing import StandardScaler\n",
        "\n",
        "from sklearn.metrics import mean_squared_error, mean_squared_log_error, mean_absolute_error, mean_absolute_percentage_error, r2_score\n",
        "\n",
        "from statsmodels.tsa.seasonal import seasonal_decompose\n",
        "from statsmodels.tsa.api import AutoReg\n",
        "from pmdarima import auto_arima\n",
        "from statsmodels.tsa.arima.model import ARIMA\n",
        "from statsmodels.tsa.statespace.sarimax import SARIMAX\n",
        "from sklearn.linear_model import LinearRegression\n",
        "from statsmodels.tsa.deterministic import DeterministicProcess, CalendarFourier\n",
        "\n",
        "import warnings\n",
        "import os\n",
        "warnings.filterwarnings(\"ignore\")\n",
        "from google.colab import drive"
      ]
    },
    {
      "cell_type": "markdown",
      "metadata": {
        "id": "3kfbniiz4Nz0"
      },
      "source": [
        "# Data Loading"
      ]
    },
    {
      "cell_type": "code",
      "execution_count": 50,
      "metadata": {
        "id": "p3HFblb7_vMc"
      },
      "outputs": [],
      "source": [
        "train = pd.read_csv('https://raw.githubusercontent.com/ikoghoemmanuell/Forecast-the-Future-Naira-Exchange-Rate/main/Spot_Prices.csv', sep=',')\n",
        "\n",
        "train.rename(columns={'Week of':'date', 'Cushing OK WTI Spot Price FOB $/bbl':'spot_price'}, inplace=True)\n",
        "train['date'] = pd.to_datetime(train['date'])\n",
        "\n",
        "# Filter the DataFrame to include data only from June 19, 1998, to May 12, 2023\n",
        "start_date = '1998-06-19'\n",
        "end_date = '2023-05-12'\n",
        "\n",
        "# Filter based on the date range\n",
        "mask = (train['date'] >= start_date) & (train['date'] <= end_date)\n",
        "train = train.loc[mask]\n",
        "\n",
        "train.set_index('date', inplace=True)"
      ]
    },
    {
      "cell_type": "markdown",
      "metadata": {
        "id": "Mz9VjJVx4Nz3"
      },
      "source": [
        "# Dataset overview"
      ]
    },
    {
      "cell_type": "code",
      "execution_count": 51,
      "metadata": {
        "colab": {
          "base_uri": "https://localhost:8080/",
          "height": 238
        },
        "id": "kajd5nDC490n",
        "outputId": "c77a5189-6437-4c2f-ae64-f8640d53343e"
      },
      "outputs": [
        {
          "output_type": "execute_result",
          "data": {
            "text/plain": [
              "            spot_price\n",
              "date                  \n",
              "2023-05-12       72.03\n",
              "2023-05-05       71.16\n",
              "2023-04-28       76.31\n",
              "2023-04-21       79.22\n",
              "2023-04-14       81.87"
            ],
            "text/html": [
              "\n",
              "  <div id=\"df-c6024984-408b-4cb8-8aa6-05ef0b8f88b6\" class=\"colab-df-container\">\n",
              "    <div>\n",
              "<style scoped>\n",
              "    .dataframe tbody tr th:only-of-type {\n",
              "        vertical-align: middle;\n",
              "    }\n",
              "\n",
              "    .dataframe tbody tr th {\n",
              "        vertical-align: top;\n",
              "    }\n",
              "\n",
              "    .dataframe thead th {\n",
              "        text-align: right;\n",
              "    }\n",
              "</style>\n",
              "<table border=\"1\" class=\"dataframe\">\n",
              "  <thead>\n",
              "    <tr style=\"text-align: right;\">\n",
              "      <th></th>\n",
              "      <th>spot_price</th>\n",
              "    </tr>\n",
              "    <tr>\n",
              "      <th>date</th>\n",
              "      <th></th>\n",
              "    </tr>\n",
              "  </thead>\n",
              "  <tbody>\n",
              "    <tr>\n",
              "      <th>2023-05-12</th>\n",
              "      <td>72.03</td>\n",
              "    </tr>\n",
              "    <tr>\n",
              "      <th>2023-05-05</th>\n",
              "      <td>71.16</td>\n",
              "    </tr>\n",
              "    <tr>\n",
              "      <th>2023-04-28</th>\n",
              "      <td>76.31</td>\n",
              "    </tr>\n",
              "    <tr>\n",
              "      <th>2023-04-21</th>\n",
              "      <td>79.22</td>\n",
              "    </tr>\n",
              "    <tr>\n",
              "      <th>2023-04-14</th>\n",
              "      <td>81.87</td>\n",
              "    </tr>\n",
              "  </tbody>\n",
              "</table>\n",
              "</div>\n",
              "    <div class=\"colab-df-buttons\">\n",
              "\n",
              "  <div class=\"colab-df-container\">\n",
              "    <button class=\"colab-df-convert\" onclick=\"convertToInteractive('df-c6024984-408b-4cb8-8aa6-05ef0b8f88b6')\"\n",
              "            title=\"Convert this dataframe to an interactive table.\"\n",
              "            style=\"display:none;\">\n",
              "\n",
              "  <svg xmlns=\"http://www.w3.org/2000/svg\" height=\"24px\" viewBox=\"0 -960 960 960\">\n",
              "    <path d=\"M120-120v-720h720v720H120Zm60-500h600v-160H180v160Zm220 220h160v-160H400v160Zm0 220h160v-160H400v160ZM180-400h160v-160H180v160Zm440 0h160v-160H620v160ZM180-180h160v-160H180v160Zm440 0h160v-160H620v160Z\"/>\n",
              "  </svg>\n",
              "    </button>\n",
              "\n",
              "  <style>\n",
              "    .colab-df-container {\n",
              "      display:flex;\n",
              "      gap: 12px;\n",
              "    }\n",
              "\n",
              "    .colab-df-convert {\n",
              "      background-color: #E8F0FE;\n",
              "      border: none;\n",
              "      border-radius: 50%;\n",
              "      cursor: pointer;\n",
              "      display: none;\n",
              "      fill: #1967D2;\n",
              "      height: 32px;\n",
              "      padding: 0 0 0 0;\n",
              "      width: 32px;\n",
              "    }\n",
              "\n",
              "    .colab-df-convert:hover {\n",
              "      background-color: #E2EBFA;\n",
              "      box-shadow: 0px 1px 2px rgba(60, 64, 67, 0.3), 0px 1px 3px 1px rgba(60, 64, 67, 0.15);\n",
              "      fill: #174EA6;\n",
              "    }\n",
              "\n",
              "    .colab-df-buttons div {\n",
              "      margin-bottom: 4px;\n",
              "    }\n",
              "\n",
              "    [theme=dark] .colab-df-convert {\n",
              "      background-color: #3B4455;\n",
              "      fill: #D2E3FC;\n",
              "    }\n",
              "\n",
              "    [theme=dark] .colab-df-convert:hover {\n",
              "      background-color: #434B5C;\n",
              "      box-shadow: 0px 1px 3px 1px rgba(0, 0, 0, 0.15);\n",
              "      filter: drop-shadow(0px 1px 2px rgba(0, 0, 0, 0.3));\n",
              "      fill: #FFFFFF;\n",
              "    }\n",
              "  </style>\n",
              "\n",
              "    <script>\n",
              "      const buttonEl =\n",
              "        document.querySelector('#df-c6024984-408b-4cb8-8aa6-05ef0b8f88b6 button.colab-df-convert');\n",
              "      buttonEl.style.display =\n",
              "        google.colab.kernel.accessAllowed ? 'block' : 'none';\n",
              "\n",
              "      async function convertToInteractive(key) {\n",
              "        const element = document.querySelector('#df-c6024984-408b-4cb8-8aa6-05ef0b8f88b6');\n",
              "        const dataTable =\n",
              "          await google.colab.kernel.invokeFunction('convertToInteractive',\n",
              "                                                    [key], {});\n",
              "        if (!dataTable) return;\n",
              "\n",
              "        const docLinkHtml = 'Like what you see? Visit the ' +\n",
              "          '<a target=\"_blank\" href=https://colab.research.google.com/notebooks/data_table.ipynb>data table notebook</a>'\n",
              "          + ' to learn more about interactive tables.';\n",
              "        element.innerHTML = '';\n",
              "        dataTable['output_type'] = 'display_data';\n",
              "        await google.colab.output.renderOutput(dataTable, element);\n",
              "        const docLink = document.createElement('div');\n",
              "        docLink.innerHTML = docLinkHtml;\n",
              "        element.appendChild(docLink);\n",
              "      }\n",
              "    </script>\n",
              "  </div>\n",
              "\n",
              "\n",
              "<div id=\"df-18c3f5d9-0daa-4819-9974-0993eb58dc19\">\n",
              "  <button class=\"colab-df-quickchart\" onclick=\"quickchart('df-18c3f5d9-0daa-4819-9974-0993eb58dc19')\"\n",
              "            title=\"Suggest charts\"\n",
              "            style=\"display:none;\">\n",
              "\n",
              "<svg xmlns=\"http://www.w3.org/2000/svg\" height=\"24px\"viewBox=\"0 0 24 24\"\n",
              "     width=\"24px\">\n",
              "    <g>\n",
              "        <path d=\"M19 3H5c-1.1 0-2 .9-2 2v14c0 1.1.9 2 2 2h14c1.1 0 2-.9 2-2V5c0-1.1-.9-2-2-2zM9 17H7v-7h2v7zm4 0h-2V7h2v10zm4 0h-2v-4h2v4z\"/>\n",
              "    </g>\n",
              "</svg>\n",
              "  </button>\n",
              "\n",
              "<style>\n",
              "  .colab-df-quickchart {\n",
              "      --bg-color: #E8F0FE;\n",
              "      --fill-color: #1967D2;\n",
              "      --hover-bg-color: #E2EBFA;\n",
              "      --hover-fill-color: #174EA6;\n",
              "      --disabled-fill-color: #AAA;\n",
              "      --disabled-bg-color: #DDD;\n",
              "  }\n",
              "\n",
              "  [theme=dark] .colab-df-quickchart {\n",
              "      --bg-color: #3B4455;\n",
              "      --fill-color: #D2E3FC;\n",
              "      --hover-bg-color: #434B5C;\n",
              "      --hover-fill-color: #FFFFFF;\n",
              "      --disabled-bg-color: #3B4455;\n",
              "      --disabled-fill-color: #666;\n",
              "  }\n",
              "\n",
              "  .colab-df-quickchart {\n",
              "    background-color: var(--bg-color);\n",
              "    border: none;\n",
              "    border-radius: 50%;\n",
              "    cursor: pointer;\n",
              "    display: none;\n",
              "    fill: var(--fill-color);\n",
              "    height: 32px;\n",
              "    padding: 0;\n",
              "    width: 32px;\n",
              "  }\n",
              "\n",
              "  .colab-df-quickchart:hover {\n",
              "    background-color: var(--hover-bg-color);\n",
              "    box-shadow: 0 1px 2px rgba(60, 64, 67, 0.3), 0 1px 3px 1px rgba(60, 64, 67, 0.15);\n",
              "    fill: var(--button-hover-fill-color);\n",
              "  }\n",
              "\n",
              "  .colab-df-quickchart-complete:disabled,\n",
              "  .colab-df-quickchart-complete:disabled:hover {\n",
              "    background-color: var(--disabled-bg-color);\n",
              "    fill: var(--disabled-fill-color);\n",
              "    box-shadow: none;\n",
              "  }\n",
              "\n",
              "  .colab-df-spinner {\n",
              "    border: 2px solid var(--fill-color);\n",
              "    border-color: transparent;\n",
              "    border-bottom-color: var(--fill-color);\n",
              "    animation:\n",
              "      spin 1s steps(1) infinite;\n",
              "  }\n",
              "\n",
              "  @keyframes spin {\n",
              "    0% {\n",
              "      border-color: transparent;\n",
              "      border-bottom-color: var(--fill-color);\n",
              "      border-left-color: var(--fill-color);\n",
              "    }\n",
              "    20% {\n",
              "      border-color: transparent;\n",
              "      border-left-color: var(--fill-color);\n",
              "      border-top-color: var(--fill-color);\n",
              "    }\n",
              "    30% {\n",
              "      border-color: transparent;\n",
              "      border-left-color: var(--fill-color);\n",
              "      border-top-color: var(--fill-color);\n",
              "      border-right-color: var(--fill-color);\n",
              "    }\n",
              "    40% {\n",
              "      border-color: transparent;\n",
              "      border-right-color: var(--fill-color);\n",
              "      border-top-color: var(--fill-color);\n",
              "    }\n",
              "    60% {\n",
              "      border-color: transparent;\n",
              "      border-right-color: var(--fill-color);\n",
              "    }\n",
              "    80% {\n",
              "      border-color: transparent;\n",
              "      border-right-color: var(--fill-color);\n",
              "      border-bottom-color: var(--fill-color);\n",
              "    }\n",
              "    90% {\n",
              "      border-color: transparent;\n",
              "      border-bottom-color: var(--fill-color);\n",
              "    }\n",
              "  }\n",
              "</style>\n",
              "\n",
              "  <script>\n",
              "    async function quickchart(key) {\n",
              "      const quickchartButtonEl =\n",
              "        document.querySelector('#' + key + ' button');\n",
              "      quickchartButtonEl.disabled = true;  // To prevent multiple clicks.\n",
              "      quickchartButtonEl.classList.add('colab-df-spinner');\n",
              "      try {\n",
              "        const charts = await google.colab.kernel.invokeFunction(\n",
              "            'suggestCharts', [key], {});\n",
              "      } catch (error) {\n",
              "        console.error('Error during call to suggestCharts:', error);\n",
              "      }\n",
              "      quickchartButtonEl.classList.remove('colab-df-spinner');\n",
              "      quickchartButtonEl.classList.add('colab-df-quickchart-complete');\n",
              "    }\n",
              "    (() => {\n",
              "      let quickchartButtonEl =\n",
              "        document.querySelector('#df-18c3f5d9-0daa-4819-9974-0993eb58dc19 button');\n",
              "      quickchartButtonEl.style.display =\n",
              "        google.colab.kernel.accessAllowed ? 'block' : 'none';\n",
              "    })();\n",
              "  </script>\n",
              "</div>\n",
              "\n",
              "    </div>\n",
              "  </div>\n"
            ],
            "application/vnd.google.colaboratory.intrinsic+json": {
              "type": "dataframe",
              "variable_name": "train",
              "summary": "{\n  \"name\": \"train\",\n  \"rows\": 1300,\n  \"fields\": [\n    {\n      \"column\": \"date\",\n      \"properties\": {\n        \"dtype\": \"date\",\n        \"min\": \"1998-06-19 00:00:00\",\n        \"max\": \"2023-05-12 00:00:00\",\n        \"num_unique_values\": 1300,\n        \"samples\": [\n          \"2014-03-14 00:00:00\",\n          \"2009-07-17 00:00:00\",\n          \"2017-05-19 00:00:00\"\n        ],\n        \"semantic_type\": \"\",\n        \"description\": \"\"\n      }\n    },\n    {\n      \"column\": \"spot_price\",\n      \"properties\": {\n        \"dtype\": \"number\",\n        \"std\": 27.47980705988919,\n        \"min\": 3.32,\n        \"max\": 142.52,\n        \"num_unique_values\": 1222,\n        \"samples\": [\n          61.57,\n          53.44,\n          99.92\n        ],\n        \"semantic_type\": \"\",\n        \"description\": \"\"\n      }\n    }\n  ]\n}"
            }
          },
          "metadata": {},
          "execution_count": 51
        }
      ],
      "source": [
        "train.head()"
      ]
    },
    {
      "cell_type": "code",
      "source": [
        "train.info()"
      ],
      "metadata": {
        "colab": {
          "base_uri": "https://localhost:8080/"
        },
        "id": "MUzFPpFNkca2",
        "outputId": "c51894b3-5ca3-4a18-843d-7574d3bee0fb"
      },
      "execution_count": 52,
      "outputs": [
        {
          "output_type": "stream",
          "name": "stdout",
          "text": [
            "<class 'pandas.core.frame.DataFrame'>\n",
            "DatetimeIndex: 1300 entries, 2023-05-12 to 1998-06-19\n",
            "Data columns (total 1 columns):\n",
            " #   Column      Non-Null Count  Dtype  \n",
            "---  ------      --------------  -----  \n",
            " 0   spot_price  1300 non-null   float64\n",
            "dtypes: float64(1)\n",
            "memory usage: 20.3 KB\n"
          ]
        }
      ]
    },
    {
      "cell_type": "code",
      "execution_count": 53,
      "metadata": {
        "colab": {
          "base_uri": "https://localhost:8080/",
          "height": 300
        },
        "id": "Slj_ROrsD0V4",
        "outputId": "bc117739-b057-4640-bf93-bbf81ef83697"
      },
      "outputs": [
        {
          "output_type": "execute_result",
          "data": {
            "text/plain": [
              "       spot_price\n",
              "count     1300.00\n",
              "mean        59.89\n",
              "std         27.48\n",
              "min          3.32\n",
              "25%         36.73\n",
              "50%         57.97\n",
              "75%         80.77\n",
              "max        142.52"
            ],
            "text/html": [
              "\n",
              "  <div id=\"df-4ef807cf-79c7-41e5-8aa9-6ed86b9d6d91\" class=\"colab-df-container\">\n",
              "    <div>\n",
              "<style scoped>\n",
              "    .dataframe tbody tr th:only-of-type {\n",
              "        vertical-align: middle;\n",
              "    }\n",
              "\n",
              "    .dataframe tbody tr th {\n",
              "        vertical-align: top;\n",
              "    }\n",
              "\n",
              "    .dataframe thead th {\n",
              "        text-align: right;\n",
              "    }\n",
              "</style>\n",
              "<table border=\"1\" class=\"dataframe\">\n",
              "  <thead>\n",
              "    <tr style=\"text-align: right;\">\n",
              "      <th></th>\n",
              "      <th>spot_price</th>\n",
              "    </tr>\n",
              "  </thead>\n",
              "  <tbody>\n",
              "    <tr>\n",
              "      <th>count</th>\n",
              "      <td>1300.00</td>\n",
              "    </tr>\n",
              "    <tr>\n",
              "      <th>mean</th>\n",
              "      <td>59.89</td>\n",
              "    </tr>\n",
              "    <tr>\n",
              "      <th>std</th>\n",
              "      <td>27.48</td>\n",
              "    </tr>\n",
              "    <tr>\n",
              "      <th>min</th>\n",
              "      <td>3.32</td>\n",
              "    </tr>\n",
              "    <tr>\n",
              "      <th>25%</th>\n",
              "      <td>36.73</td>\n",
              "    </tr>\n",
              "    <tr>\n",
              "      <th>50%</th>\n",
              "      <td>57.97</td>\n",
              "    </tr>\n",
              "    <tr>\n",
              "      <th>75%</th>\n",
              "      <td>80.77</td>\n",
              "    </tr>\n",
              "    <tr>\n",
              "      <th>max</th>\n",
              "      <td>142.52</td>\n",
              "    </tr>\n",
              "  </tbody>\n",
              "</table>\n",
              "</div>\n",
              "    <div class=\"colab-df-buttons\">\n",
              "\n",
              "  <div class=\"colab-df-container\">\n",
              "    <button class=\"colab-df-convert\" onclick=\"convertToInteractive('df-4ef807cf-79c7-41e5-8aa9-6ed86b9d6d91')\"\n",
              "            title=\"Convert this dataframe to an interactive table.\"\n",
              "            style=\"display:none;\">\n",
              "\n",
              "  <svg xmlns=\"http://www.w3.org/2000/svg\" height=\"24px\" viewBox=\"0 -960 960 960\">\n",
              "    <path d=\"M120-120v-720h720v720H120Zm60-500h600v-160H180v160Zm220 220h160v-160H400v160Zm0 220h160v-160H400v160ZM180-400h160v-160H180v160Zm440 0h160v-160H620v160ZM180-180h160v-160H180v160Zm440 0h160v-160H620v160Z\"/>\n",
              "  </svg>\n",
              "    </button>\n",
              "\n",
              "  <style>\n",
              "    .colab-df-container {\n",
              "      display:flex;\n",
              "      gap: 12px;\n",
              "    }\n",
              "\n",
              "    .colab-df-convert {\n",
              "      background-color: #E8F0FE;\n",
              "      border: none;\n",
              "      border-radius: 50%;\n",
              "      cursor: pointer;\n",
              "      display: none;\n",
              "      fill: #1967D2;\n",
              "      height: 32px;\n",
              "      padding: 0 0 0 0;\n",
              "      width: 32px;\n",
              "    }\n",
              "\n",
              "    .colab-df-convert:hover {\n",
              "      background-color: #E2EBFA;\n",
              "      box-shadow: 0px 1px 2px rgba(60, 64, 67, 0.3), 0px 1px 3px 1px rgba(60, 64, 67, 0.15);\n",
              "      fill: #174EA6;\n",
              "    }\n",
              "\n",
              "    .colab-df-buttons div {\n",
              "      margin-bottom: 4px;\n",
              "    }\n",
              "\n",
              "    [theme=dark] .colab-df-convert {\n",
              "      background-color: #3B4455;\n",
              "      fill: #D2E3FC;\n",
              "    }\n",
              "\n",
              "    [theme=dark] .colab-df-convert:hover {\n",
              "      background-color: #434B5C;\n",
              "      box-shadow: 0px 1px 3px 1px rgba(0, 0, 0, 0.15);\n",
              "      filter: drop-shadow(0px 1px 2px rgba(0, 0, 0, 0.3));\n",
              "      fill: #FFFFFF;\n",
              "    }\n",
              "  </style>\n",
              "\n",
              "    <script>\n",
              "      const buttonEl =\n",
              "        document.querySelector('#df-4ef807cf-79c7-41e5-8aa9-6ed86b9d6d91 button.colab-df-convert');\n",
              "      buttonEl.style.display =\n",
              "        google.colab.kernel.accessAllowed ? 'block' : 'none';\n",
              "\n",
              "      async function convertToInteractive(key) {\n",
              "        const element = document.querySelector('#df-4ef807cf-79c7-41e5-8aa9-6ed86b9d6d91');\n",
              "        const dataTable =\n",
              "          await google.colab.kernel.invokeFunction('convertToInteractive',\n",
              "                                                    [key], {});\n",
              "        if (!dataTable) return;\n",
              "\n",
              "        const docLinkHtml = 'Like what you see? Visit the ' +\n",
              "          '<a target=\"_blank\" href=https://colab.research.google.com/notebooks/data_table.ipynb>data table notebook</a>'\n",
              "          + ' to learn more about interactive tables.';\n",
              "        element.innerHTML = '';\n",
              "        dataTable['output_type'] = 'display_data';\n",
              "        await google.colab.output.renderOutput(dataTable, element);\n",
              "        const docLink = document.createElement('div');\n",
              "        docLink.innerHTML = docLinkHtml;\n",
              "        element.appendChild(docLink);\n",
              "      }\n",
              "    </script>\n",
              "  </div>\n",
              "\n",
              "\n",
              "<div id=\"df-86ce0a7a-fac7-411d-934b-e378ff9a9f97\">\n",
              "  <button class=\"colab-df-quickchart\" onclick=\"quickchart('df-86ce0a7a-fac7-411d-934b-e378ff9a9f97')\"\n",
              "            title=\"Suggest charts\"\n",
              "            style=\"display:none;\">\n",
              "\n",
              "<svg xmlns=\"http://www.w3.org/2000/svg\" height=\"24px\"viewBox=\"0 0 24 24\"\n",
              "     width=\"24px\">\n",
              "    <g>\n",
              "        <path d=\"M19 3H5c-1.1 0-2 .9-2 2v14c0 1.1.9 2 2 2h14c1.1 0 2-.9 2-2V5c0-1.1-.9-2-2-2zM9 17H7v-7h2v7zm4 0h-2V7h2v10zm4 0h-2v-4h2v4z\"/>\n",
              "    </g>\n",
              "</svg>\n",
              "  </button>\n",
              "\n",
              "<style>\n",
              "  .colab-df-quickchart {\n",
              "      --bg-color: #E8F0FE;\n",
              "      --fill-color: #1967D2;\n",
              "      --hover-bg-color: #E2EBFA;\n",
              "      --hover-fill-color: #174EA6;\n",
              "      --disabled-fill-color: #AAA;\n",
              "      --disabled-bg-color: #DDD;\n",
              "  }\n",
              "\n",
              "  [theme=dark] .colab-df-quickchart {\n",
              "      --bg-color: #3B4455;\n",
              "      --fill-color: #D2E3FC;\n",
              "      --hover-bg-color: #434B5C;\n",
              "      --hover-fill-color: #FFFFFF;\n",
              "      --disabled-bg-color: #3B4455;\n",
              "      --disabled-fill-color: #666;\n",
              "  }\n",
              "\n",
              "  .colab-df-quickchart {\n",
              "    background-color: var(--bg-color);\n",
              "    border: none;\n",
              "    border-radius: 50%;\n",
              "    cursor: pointer;\n",
              "    display: none;\n",
              "    fill: var(--fill-color);\n",
              "    height: 32px;\n",
              "    padding: 0;\n",
              "    width: 32px;\n",
              "  }\n",
              "\n",
              "  .colab-df-quickchart:hover {\n",
              "    background-color: var(--hover-bg-color);\n",
              "    box-shadow: 0 1px 2px rgba(60, 64, 67, 0.3), 0 1px 3px 1px rgba(60, 64, 67, 0.15);\n",
              "    fill: var(--button-hover-fill-color);\n",
              "  }\n",
              "\n",
              "  .colab-df-quickchart-complete:disabled,\n",
              "  .colab-df-quickchart-complete:disabled:hover {\n",
              "    background-color: var(--disabled-bg-color);\n",
              "    fill: var(--disabled-fill-color);\n",
              "    box-shadow: none;\n",
              "  }\n",
              "\n",
              "  .colab-df-spinner {\n",
              "    border: 2px solid var(--fill-color);\n",
              "    border-color: transparent;\n",
              "    border-bottom-color: var(--fill-color);\n",
              "    animation:\n",
              "      spin 1s steps(1) infinite;\n",
              "  }\n",
              "\n",
              "  @keyframes spin {\n",
              "    0% {\n",
              "      border-color: transparent;\n",
              "      border-bottom-color: var(--fill-color);\n",
              "      border-left-color: var(--fill-color);\n",
              "    }\n",
              "    20% {\n",
              "      border-color: transparent;\n",
              "      border-left-color: var(--fill-color);\n",
              "      border-top-color: var(--fill-color);\n",
              "    }\n",
              "    30% {\n",
              "      border-color: transparent;\n",
              "      border-left-color: var(--fill-color);\n",
              "      border-top-color: var(--fill-color);\n",
              "      border-right-color: var(--fill-color);\n",
              "    }\n",
              "    40% {\n",
              "      border-color: transparent;\n",
              "      border-right-color: var(--fill-color);\n",
              "      border-top-color: var(--fill-color);\n",
              "    }\n",
              "    60% {\n",
              "      border-color: transparent;\n",
              "      border-right-color: var(--fill-color);\n",
              "    }\n",
              "    80% {\n",
              "      border-color: transparent;\n",
              "      border-right-color: var(--fill-color);\n",
              "      border-bottom-color: var(--fill-color);\n",
              "    }\n",
              "    90% {\n",
              "      border-color: transparent;\n",
              "      border-bottom-color: var(--fill-color);\n",
              "    }\n",
              "  }\n",
              "</style>\n",
              "\n",
              "  <script>\n",
              "    async function quickchart(key) {\n",
              "      const quickchartButtonEl =\n",
              "        document.querySelector('#' + key + ' button');\n",
              "      quickchartButtonEl.disabled = true;  // To prevent multiple clicks.\n",
              "      quickchartButtonEl.classList.add('colab-df-spinner');\n",
              "      try {\n",
              "        const charts = await google.colab.kernel.invokeFunction(\n",
              "            'suggestCharts', [key], {});\n",
              "      } catch (error) {\n",
              "        console.error('Error during call to suggestCharts:', error);\n",
              "      }\n",
              "      quickchartButtonEl.classList.remove('colab-df-spinner');\n",
              "      quickchartButtonEl.classList.add('colab-df-quickchart-complete');\n",
              "    }\n",
              "    (() => {\n",
              "      let quickchartButtonEl =\n",
              "        document.querySelector('#df-86ce0a7a-fac7-411d-934b-e378ff9a9f97 button');\n",
              "      quickchartButtonEl.style.display =\n",
              "        google.colab.kernel.accessAllowed ? 'block' : 'none';\n",
              "    })();\n",
              "  </script>\n",
              "</div>\n",
              "\n",
              "    </div>\n",
              "  </div>\n"
            ],
            "application/vnd.google.colaboratory.intrinsic+json": {
              "type": "dataframe",
              "summary": "{\n  \"name\": \"train\",\n  \"rows\": 8,\n  \"fields\": [\n    {\n      \"column\": \"spot_price\",\n      \"properties\": {\n        \"dtype\": \"number\",\n        \"std\": 440.9323887493672,\n        \"min\": 3.32,\n        \"max\": 1300.0,\n        \"num_unique_values\": 8,\n        \"samples\": [\n          59.89342307692308,\n          57.974999999999994,\n          1300.0\n        ],\n        \"semantic_type\": \"\",\n        \"description\": \"\"\n      }\n    }\n  ]\n}"
            }
          },
          "metadata": {},
          "execution_count": 53
        }
      ],
      "source": [
        "train.describe()"
      ]
    },
    {
      "cell_type": "markdown",
      "metadata": {
        "id": "AGnoifAP4N0P"
      },
      "source": [
        "## Impute Missing Values"
      ]
    },
    {
      "cell_type": "code",
      "execution_count": 57,
      "metadata": {
        "colab": {
          "base_uri": "https://localhost:8080/"
        },
        "id": "d57DfF5_Jhaw",
        "outputId": "dd26e9e5-0ac3-46ff-963e-dac490a9456b"
      },
      "outputs": [
        {
          "output_type": "stream",
          "name": "stdout",
          "text": [
            "spot_price    0\n",
            "dtype: int64\n"
          ]
        }
      ],
      "source": [
        "print(train.isnull().sum())"
      ]
    },
    {
      "cell_type": "markdown",
      "metadata": {
        "id": "sIWpPR144N0Q"
      },
      "source": [
        "# Exploratory Data Analysis: EDA"
      ]
    },
    {
      "cell_type": "code",
      "execution_count": 66,
      "metadata": {
        "id": "mJehPW97wCxh",
        "outputId": "4ed5fa33-ffbe-4af7-eb80-90cd2177f72b",
        "colab": {
          "base_uri": "https://localhost:8080/",
          "height": 472
        }
      },
      "outputs": [
        {
          "output_type": "display_data",
          "data": {
            "text/plain": [
              "<Figure size 640x480 with 1 Axes>"
            ],
            "image/png": "[encoded data removed]"
          },
          "metadata": {}
        }
      ],
      "source": [
        "# Histogram of 'spot_price'\n",
        "train['spot_price'].plot(kind='hist')\n",
        "plt.xlabel('spot_price')\n",
        "plt.ylabel('Frequency')\n",
        "plt.title('Distribution of spot_price')\n",
        "plt.show()"
      ]
    },
    {
      "cell_type": "code",
      "execution_count": 69,
      "metadata": {
        "id": "NRbIqlhlwCxm",
        "colab": {
          "base_uri": "https://localhost:8080/"
        },
        "outputId": "0f62e5cb-a3d4-404d-ffe3-d14ee9e12ae6"
      },
      "outputs": [
        {
          "output_type": "stream",
          "name": "stdout",
          "text": [
            "The month with the highest sales is: 7\n"
          ]
        }
      ],
      "source": [
        "# Group by month and calculate sum of sales\n",
        "monthly_sales = train.groupby(train.index.month)['spot_price'].sum()\n",
        "\n",
        "# Find the month with the highest and lowest sales\n",
        "highest_sales_month = monthly_sales.idxmax()\n",
        "lowest_sales_month = monthly_sales.idxmin()\n",
        "\n",
        "# Print the month with the highest sales\n",
        "print(\"The month with the highest sales is:\", highest_sales_month)\n",
        "print(\"The month with the lowest sales is:\", lowest_sales_month)"
      ]
    },
    {
      "cell_type": "markdown",
      "source": [
        "# lag & time step features"
      ],
      "metadata": {
        "id": "DU3NLYdBVPUO"
      }
    },
    {
      "cell_type": "markdown",
      "source": [
        "# trend analysis"
      ],
      "metadata": {
        "id": "NIKC0CmhU_KG"
      }
    },
    {
      "cell_type": "code",
      "source": [
        "moving_average = train.rolling(\n",
        "    window=365,       # 365-day window\n",
        "    center=True,      # puts the average at the center of the window\n",
        "    min_periods=183,  # choose about half the window size\n",
        ").mean()              # compute the mean (could also do median, std, min, max, ...)\n",
        "\n",
        "ax = train.plot(style=\".\", color=\"0.5\")\n",
        "moving_average.plot(\n",
        "    ax=ax, linewidth=3, title=\"crude_oil_prices - 365-Day Moving Average\", legend=False,\n",
        ");"
      ],
      "metadata": {
        "colab": {
          "base_uri": "https://localhost:8080/",
          "height": 472
        },
        "id": "VfdhNOknjsc0",
        "outputId": "718329b2-0069-48b6-8f92-5420fd6d4e4f"
      },
      "execution_count": 72,
      "outputs": [
        {
          "output_type": "display_data",
          "data": {
            "text/plain": [
              "<Figure size 640x480 with 1 Axes>"
            ],
            "image/png": "[encoded data removed]"
          },
          "metadata": {}
        }
      ]
    },
    {
      "cell_type": "code",
      "source": [
        "dp = DeterministicProcess(\n",
        "    index=train.index,  # dates from the training data\n",
        "    constant=True,       # dummy feature for the bias (y_intercept)\n",
        "    order=2,             # the time dummy (trend)\n",
        "    drop=True,           # drop terms if necessary to avoid collinearity\n",
        ")\n",
        "# `in_sample` creates features for the dates given in the `index` argument\n",
        "X_dp = dp.in_sample()\n",
        "\n",
        "X_dp.head()"
      ],
      "metadata": {
        "colab": {
          "base_uri": "https://localhost:8080/",
          "height": 391
        },
        "id": "NBJ87wFvkaUo",
        "outputId": "a89a7930-c2f1-48e6-d9a2-0f1124cb67b7"
      },
      "execution_count": 73,
      "outputs": [
        {
          "output_type": "execute_result",
          "data": {
            "text/plain": [
              "            const  trend  trend_squared  s(2,52)  s(3,52)  s(4,52)  s(5,52)  \\\n",
              "date                                                                          \n",
              "2023-05-12   1.00   1.00           1.00     0.00     0.00     0.00     0.00   \n",
              "2023-05-05   1.00   2.00           4.00     1.00     0.00     0.00     0.00   \n",
              "2023-04-28   1.00   3.00           9.00     0.00     1.00     0.00     0.00   \n",
              "2023-04-21   1.00   4.00          16.00     0.00     0.00     1.00     0.00   \n",
              "2023-04-14   1.00   5.00          25.00     0.00     0.00     0.00     1.00   \n",
              "\n",
              "            s(6,52)  s(7,52)  s(8,52)  ...  s(51,52)  s(52,52)  \\\n",
              "date                                   ...                       \n",
              "2023-05-12     0.00     0.00     0.00  ...      0.00      0.00   \n",
              "2023-05-05     0.00     0.00     0.00  ...      0.00      0.00   \n",
              "2023-04-28     0.00     0.00     0.00  ...      0.00      0.00   \n",
              "2023-04-21     0.00     0.00     0.00  ...      0.00      0.00   \n",
              "2023-04-14     0.00     0.00     0.00  ...      0.00      0.00   \n",
              "\n",
              "            sin(1,freq=Q-DEC)  cos(1,freq=Q-DEC)  sin(2,freq=Q-DEC)  \\\n",
              "date                                                                  \n",
              "2023-05-12               0.31              -0.95              -0.58   \n",
              "2023-05-05               0.71              -0.70              -1.00   \n",
              "2023-04-28               0.96              -0.29              -0.55   \n",
              "2023-04-21               0.98               0.19               0.37   \n",
              "2023-04-14               0.78               0.62               0.97   \n",
              "\n",
              "            cos(2,freq=Q-DEC)  sin(3,freq=Q-DEC)  cos(3,freq=Q-DEC)  \\\n",
              "date                                                                  \n",
              "2023-05-12               0.81               0.80              -0.60   \n",
              "2023-05-05              -0.02               0.69               0.73   \n",
              "2023-04-28              -0.83              -0.64               0.77   \n",
              "2023-04-21              -0.93              -0.84              -0.54   \n",
              "2023-04-14              -0.22               0.43              -0.90   \n",
              "\n",
              "            sin(4,freq=Q-DEC)  cos(4,freq=Q-DEC)  \n",
              "date                                              \n",
              "2023-05-12              -0.95               0.32  \n",
              "2023-05-05               0.03              -1.00  \n",
              "2023-04-28               0.92               0.39  \n",
              "2023-04-21              -0.69               0.73  \n",
              "2023-04-14              -0.43              -0.90  \n",
              "\n",
              "[5 rows x 62 columns]"
            ],
            "text/html": [
              "\n",
              "  <div id=\"df-40c1648d-3100-4a68-8051-cf4fb43cf011\" class=\"colab-df-container\">\n",
              "    <div>\n",
              "<style scoped>\n",
              "    .dataframe tbody tr th:only-of-type {\n",
              "        vertical-align: middle;\n",
              "    }\n",
              "\n",
              "    .dataframe tbody tr th {\n",
              "        vertical-align: top;\n",
              "    }\n",
              "\n",
              "    .dataframe thead th {\n",
              "        text-align: right;\n",
              "    }\n",
              "</style>\n",
              "<table border=\"1\" class=\"dataframe\">\n",
              "  <thead>\n",
              "    <tr style=\"text-align: right;\">\n",
              "      <th></th>\n",
              "      <th>const</th>\n",
              "      <th>trend</th>\n",
              "      <th>trend_squared</th>\n",
              "      <th>s(2,52)</th>\n",
              "      <th>s(3,52)</th>\n",
              "      <th>s(4,52)</th>\n",
              "      <th>s(5,52)</th>\n",
              "      <th>s(6,52)</th>\n",
              "      <th>s(7,52)</th>\n",
              "      <th>s(8,52)</th>\n",
              "      <th>...</th>\n",
              "      <th>s(51,52)</th>\n",
              "      <th>s(52,52)</th>\n",
              "      <th>sin(1,freq=Q-DEC)</th>\n",
              "      <th>cos(1,freq=Q-DEC)</th>\n",
              "      <th>sin(2,freq=Q-DEC)</th>\n",
              "      <th>cos(2,freq=Q-DEC)</th>\n",
              "      <th>sin(3,freq=Q-DEC)</th>\n",
              "      <th>cos(3,freq=Q-DEC)</th>\n",
              "      <th>sin(4,freq=Q-DEC)</th>\n",
              "      <th>cos(4,freq=Q-DEC)</th>\n",
              "    </tr>\n",
              "    <tr>\n",
              "      <th>date</th>\n",
              "      <th></th>\n",
              "      <th></th>\n",
              "      <th></th>\n",
              "      <th></th>\n",
              "      <th></th>\n",
              "      <th></th>\n",
              "      <th></th>\n",
              "      <th></th>\n",
              "      <th></th>\n",
              "      <th></th>\n",
              "      <th></th>\n",
              "      <th></th>\n",
              "      <th></th>\n",
              "      <th></th>\n",
              "      <th></th>\n",
              "      <th></th>\n",
              "      <th></th>\n",
              "      <th></th>\n",
              "      <th></th>\n",
              "      <th></th>\n",
              "      <th></th>\n",
              "    </tr>\n",
              "  </thead>\n",
              "  <tbody>\n",
              "    <tr>\n",
              "      <th>2023-05-12</th>\n",
              "      <td>1.00</td>\n",
              "      <td>1.00</td>\n",
              "      <td>1.00</td>\n",
              "      <td>0.00</td>\n",
              "      <td>0.00</td>\n",
              "      <td>0.00</td>\n",
              "      <td>0.00</td>\n",
              "      <td>0.00</td>\n",
              "      <td>0.00</td>\n",
              "      <td>0.00</td>\n",
              "      <td>...</td>\n",
              "      <td>0.00</td>\n",
              "      <td>0.00</td>\n",
              "      <td>0.31</td>\n",
              "      <td>-0.95</td>\n",
              "      <td>-0.58</td>\n",
              "      <td>0.81</td>\n",
              "      <td>0.80</td>\n",
              "      <td>-0.60</td>\n",
              "      <td>-0.95</td>\n",
              "      <td>0.32</td>\n",
              "    </tr>\n",
              "    <tr>\n",
              "      <th>2023-05-05</th>\n",
              "      <td>1.00</td>\n",
              "      <td>2.00</td>\n",
              "      <td>4.00</td>\n",
              "      <td>1.00</td>\n",
              "      <td>0.00</td>\n",
              "      <td>0.00</td>\n",
              "      <td>0.00</td>\n",
              "      <td>0.00</td>\n",
              "      <td>0.00</td>\n",
              "      <td>0.00</td>\n",
              "      <td>...</td>\n",
              "      <td>0.00</td>\n",
              "      <td>0.00</td>\n",
              "      <td>0.71</td>\n",
              "      <td>-0.70</td>\n",
              "      <td>-1.00</td>\n",
              "      <td>-0.02</td>\n",
              "      <td>0.69</td>\n",
              "      <td>0.73</td>\n",
              "      <td>0.03</td>\n",
              "      <td>-1.00</td>\n",
              "    </tr>\n",
              "    <tr>\n",
              "      <th>2023-04-28</th>\n",
              "      <td>1.00</td>\n",
              "      <td>3.00</td>\n",
              "      <td>9.00</td>\n",
              "      <td>0.00</td>\n",
              "      <td>1.00</td>\n",
              "      <td>0.00</td>\n",
              "      <td>0.00</td>\n",
              "      <td>0.00</td>\n",
              "      <td>0.00</td>\n",
              "      <td>0.00</td>\n",
              "      <td>...</td>\n",
              "      <td>0.00</td>\n",
              "      <td>0.00</td>\n",
              "      <td>0.96</td>\n",
              "      <td>-0.29</td>\n",
              "      <td>-0.55</td>\n",
              "      <td>-0.83</td>\n",
              "      <td>-0.64</td>\n",
              "      <td>0.77</td>\n",
              "      <td>0.92</td>\n",
              "      <td>0.39</td>\n",
              "    </tr>\n",
              "    <tr>\n",
              "      <th>2023-04-21</th>\n",
              "      <td>1.00</td>\n",
              "      <td>4.00</td>\n",
              "      <td>16.00</td>\n",
              "      <td>0.00</td>\n",
              "      <td>0.00</td>\n",
              "      <td>1.00</td>\n",
              "      <td>0.00</td>\n",
              "      <td>0.00</td>\n",
              "      <td>0.00</td>\n",
              "      <td>0.00</td>\n",
              "      <td>...</td>\n",
              "      <td>0.00</td>\n",
              "      <td>0.00</td>\n",
              "      <td>0.98</td>\n",
              "      <td>0.19</td>\n",
              "      <td>0.37</td>\n",
              "      <td>-0.93</td>\n",
              "      <td>-0.84</td>\n",
              "      <td>-0.54</td>\n",
              "      <td>-0.69</td>\n",
              "      <td>0.73</td>\n",
              "    </tr>\n",
              "    <tr>\n",
              "      <th>2023-04-14</th>\n",
              "      <td>1.00</td>\n",
              "      <td>5.00</td>\n",
              "      <td>25.00</td>\n",
              "      <td>0.00</td>\n",
              "      <td>0.00</td>\n",
              "      <td>0.00</td>\n",
              "      <td>1.00</td>\n",
              "      <td>0.00</td>\n",
              "      <td>0.00</td>\n",
              "      <td>0.00</td>\n",
              "      <td>...</td>\n",
              "      <td>0.00</td>\n",
              "      <td>0.00</td>\n",
              "      <td>0.78</td>\n",
              "      <td>0.62</td>\n",
              "      <td>0.97</td>\n",
              "      <td>-0.22</td>\n",
              "      <td>0.43</td>\n",
              "      <td>-0.90</td>\n",
              "      <td>-0.43</td>\n",
              "      <td>-0.90</td>\n",
              "    </tr>\n",
              "  </tbody>\n",
              "</table>\n",
              "<p>5 rows × 62 columns</p>\n",
              "</div>\n",
              "    <div class=\"colab-df-buttons\">\n",
              "\n",
              "  <div class=\"colab-df-container\">\n",
              "    <button class=\"colab-df-convert\" onclick=\"convertToInteractive('df-40c1648d-3100-4a68-8051-cf4fb43cf011')\"\n",
              "            title=\"Convert this dataframe to an interactive table.\"\n",
              "            style=\"display:none;\">\n",
              "\n",
              "  <svg xmlns=\"http://www.w3.org/2000/svg\" height=\"24px\" viewBox=\"0 -960 960 960\">\n",
              "    <path d=\"M120-120v-720h720v720H120Zm60-500h600v-160H180v160Zm220 220h160v-160H400v160Zm0 220h160v-160H400v160ZM180-400h160v-160H180v160Zm440 0h160v-160H620v160ZM180-180h160v-160H180v160Zm440 0h160v-160H620v160Z\"/>\n",
              "  </svg>\n",
              "    </button>\n",
              "\n",
              "  <style>\n",
              "    .colab-df-container {\n",
              "      display:flex;\n",
              "      gap: 12px;\n",
              "    }\n",
              "\n",
              "    .colab-df-convert {\n",
              "      background-color: #E8F0FE;\n",
              "      border: none;\n",
              "      border-radius: 50%;\n",
              "      cursor: pointer;\n",
              "      display: none;\n",
              "      fill: #1967D2;\n",
              "      height: 32px;\n",
              "      padding: 0 0 0 0;\n",
              "      width: 32px;\n",
              "    }\n",
              "\n",
              "    .colab-df-convert:hover {\n",
              "      background-color: #E2EBFA;\n",
              "      box-shadow: 0px 1px 2px rgba(60, 64, 67, 0.3), 0px 1px 3px 1px rgba(60, 64, 67, 0.15);\n",
              "      fill: #174EA6;\n",
              "    }\n",
              "\n",
              "    .colab-df-buttons div {\n",
              "      margin-bottom: 4px;\n",
              "    }\n",
              "\n",
              "    [theme=dark] .colab-df-convert {\n",
              "      background-color: #3B4455;\n",
              "      fill: #D2E3FC;\n",
              "    }\n",
              "\n",
              "    [theme=dark] .colab-df-convert:hover {\n",
              "      background-color: #434B5C;\n",
              "      box-shadow: 0px 1px 3px 1px rgba(0, 0, 0, 0.15);\n",
              "      filter: drop-shadow(0px 1px 2px rgba(0, 0, 0, 0.3));\n",
              "      fill: #FFFFFF;\n",
              "    }\n",
              "  </style>\n",
              "\n",
              "    <script>\n",
              "      const buttonEl =\n",
              "        document.querySelector('#df-40c1648d-3100-4a68-8051-cf4fb43cf011 button.colab-df-convert');\n",
              "      buttonEl.style.display =\n",
              "        google.colab.kernel.accessAllowed ? 'block' : 'none';\n",
              "\n",
              "      async function convertToInteractive(key) {\n",
              "        const element = document.querySelector('#df-40c1648d-3100-4a68-8051-cf4fb43cf011');\n",
              "        const dataTable =\n",
              "          await google.colab.kernel.invokeFunction('convertToInteractive',\n",
              "                                                    [key], {});\n",
              "        if (!dataTable) return;\n",
              "\n",
              "        const docLinkHtml = 'Like what you see? Visit the ' +\n",
              "          '<a target=\"_blank\" href=https://colab.research.google.com/notebooks/data_table.ipynb>data table notebook</a>'\n",
              "          + ' to learn more about interactive tables.';\n",
              "        element.innerHTML = '';\n",
              "        dataTable['output_type'] = 'display_data';\n",
              "        await google.colab.output.renderOutput(dataTable, element);\n",
              "        const docLink = document.createElement('div');\n",
              "        docLink.innerHTML = docLinkHtml;\n",
              "        element.appendChild(docLink);\n",
              "      }\n",
              "    </script>\n",
              "  </div>\n",
              "\n",
              "\n",
              "<div id=\"df-4d94d197-fe83-4059-a8f9-4d71e3d13b27\">\n",
              "  <button class=\"colab-df-quickchart\" onclick=\"quickchart('df-4d94d197-fe83-4059-a8f9-4d71e3d13b27')\"\n",
              "            title=\"Suggest charts\"\n",
              "            style=\"display:none;\">\n",
              "\n",
              "<svg xmlns=\"http://www.w3.org/2000/svg\" height=\"24px\"viewBox=\"0 0 24 24\"\n",
              "     width=\"24px\">\n",
              "    <g>\n",
              "        <path d=\"M19 3H5c-1.1 0-2 .9-2 2v14c0 1.1.9 2 2 2h14c1.1 0 2-.9 2-2V5c0-1.1-.9-2-2-2zM9 17H7v-7h2v7zm4 0h-2V7h2v10zm4 0h-2v-4h2v4z\"/>\n",
              "    </g>\n",
              "</svg>\n",
              "  </button>\n",
              "\n",
              "<style>\n",
              "  .colab-df-quickchart {\n",
              "      --bg-color: #E8F0FE;\n",
              "      --fill-color: #1967D2;\n",
              "      --hover-bg-color: #E2EBFA;\n",
              "      --hover-fill-color: #174EA6;\n",
              "      --disabled-fill-color: #AAA;\n",
              "      --disabled-bg-color: #DDD;\n",
              "  }\n",
              "\n",
              "  [theme=dark] .colab-df-quickchart {\n",
              "      --bg-color: #3B4455;\n",
              "      --fill-color: #D2E3FC;\n",
              "      --hover-bg-color: #434B5C;\n",
              "      --hover-fill-color: #FFFFFF;\n",
              "      --disabled-bg-color: #3B4455;\n",
              "      --disabled-fill-color: #666;\n",
              "  }\n",
              "\n",
              "  .colab-df-quickchart {\n",
              "    background-color: var(--bg-color);\n",
              "    border: none;\n",
              "    border-radius: 50%;\n",
              "    cursor: pointer;\n",
              "    display: none;\n",
              "    fill: var(--fill-color);\n",
              "    height: 32px;\n",
              "    padding: 0;\n",
              "    width: 32px;\n",
              "  }\n",
              "\n",
              "  .colab-df-quickchart:hover {\n",
              "    background-color: var(--hover-bg-color);\n",
              "    box-shadow: 0 1px 2px rgba(60, 64, 67, 0.3), 0 1px 3px 1px rgba(60, 64, 67, 0.15);\n",
              "    fill: var(--button-hover-fill-color);\n",
              "  }\n",
              "\n",
              "  .colab-df-quickchart-complete:disabled,\n",
              "  .colab-df-quickchart-complete:disabled:hover {\n",
              "    background-color: var(--disabled-bg-color);\n",
              "    fill: var(--disabled-fill-color);\n",
              "    box-shadow: none;\n",
              "  }\n",
              "\n",
              "  .colab-df-spinner {\n",
              "    border: 2px solid var(--fill-color);\n",
              "    border-color: transparent;\n",
              "    border-bottom-color: var(--fill-color);\n",
              "    animation:\n",
              "      spin 1s steps(1) infinite;\n",
              "  }\n",
              "\n",
              "  @keyframes spin {\n",
              "    0% {\n",
              "      border-color: transparent;\n",
              "      border-bottom-color: var(--fill-color);\n",
              "      border-left-color: var(--fill-color);\n",
              "    }\n",
              "    20% {\n",
              "      border-color: transparent;\n",
              "      border-left-color: var(--fill-color);\n",
              "      border-top-color: var(--fill-color);\n",
              "    }\n",
              "    30% {\n",
              "      border-color: transparent;\n",
              "      border-left-color: var(--fill-color);\n",
              "      border-top-color: var(--fill-color);\n",
              "      border-right-color: var(--fill-color);\n",
              "    }\n",
              "    40% {\n",
              "      border-color: transparent;\n",
              "      border-right-color: var(--fill-color);\n",
              "      border-top-color: var(--fill-color);\n",
              "    }\n",
              "    60% {\n",
              "      border-color: transparent;\n",
              "      border-right-color: var(--fill-color);\n",
              "    }\n",
              "    80% {\n",
              "      border-color: transparent;\n",
              "      border-right-color: var(--fill-color);\n",
              "      border-bottom-color: var(--fill-color);\n",
              "    }\n",
              "    90% {\n",
              "      border-color: transparent;\n",
              "      border-bottom-color: var(--fill-color);\n",
              "    }\n",
              "  }\n",
              "</style>\n",
              "\n",
              "  <script>\n",
              "    async function quickchart(key) {\n",
              "      const quickchartButtonEl =\n",
              "        document.querySelector('#' + key + ' button');\n",
              "      quickchartButtonEl.disabled = true;  // To prevent multiple clicks.\n",
              "      quickchartButtonEl.classList.add('colab-df-spinner');\n",
              "      try {\n",
              "        const charts = await google.colab.kernel.invokeFunction(\n",
              "            'suggestCharts', [key], {});\n",
              "      } catch (error) {\n",
              "        console.error('Error during call to suggestCharts:', error);\n",
              "      }\n",
              "      quickchartButtonEl.classList.remove('colab-df-spinner');\n",
              "      quickchartButtonEl.classList.add('colab-df-quickchart-complete');\n",
              "    }\n",
              "    (() => {\n",
              "      let quickchartButtonEl =\n",
              "        document.querySelector('#df-4d94d197-fe83-4059-a8f9-4d71e3d13b27 button');\n",
              "      quickchartButtonEl.style.display =\n",
              "        google.colab.kernel.accessAllowed ? 'block' : 'none';\n",
              "    })();\n",
              "  </script>\n",
              "</div>\n",
              "\n",
              "    </div>\n",
              "  </div>\n"
            ],
            "application/vnd.google.colaboratory.intrinsic+json": {
              "type": "dataframe",
              "variable_name": "X_dp"
            }
          },
          "metadata": {},
          "execution_count": 73
        }
      ]
    },
    {
      "cell_type": "code",
      "source": [
        "y_dp = train['spot_price']  # the target\n",
        "\n",
        "# The intercept is the same as the `const` feature from\n",
        "# DeterministicProcess. LinearRegression behaves badly with duplicated\n",
        "# features, so we need to be sure to exclude it here.\n",
        "model = LinearRegression(fit_intercept=False)\n",
        "model.fit(X_dp, y_dp)\n",
        "\n",
        "y_dp_pred = pd.Series(model.predict(X_dp), index=X_dp.index)"
      ],
      "metadata": {
        "id": "Aa5jp6ftk3jk"
      },
      "execution_count": 74,
      "outputs": []
    },
    {
      "cell_type": "code",
      "source": [
        "ax = train.plot(style=\".\", color=\"0.5\", title=\"Spot Prices - Trend\")\n",
        "_ = y_dp_pred.plot(ax=ax, linewidth=3, label=\"spot prices\")"
      ],
      "metadata": {
        "colab": {
          "base_uri": "https://localhost:8080/",
          "height": 472
        },
        "id": "oRF05tLHrHbj",
        "outputId": "0e9c9632-a947-45b8-da84-b9fe415e1a80"
      },
      "execution_count": 75,
      "outputs": [
        {
          "output_type": "display_data",
          "data": {
            "text/plain": [
              "<Figure size 640x480 with 1 Axes>"
            ],
            "image/png": "[encoded data removed]"
          },
          "metadata": {}
        }
      ]
    },
    {
      "cell_type": "code",
      "source": [
        "X_dp_test = dp.out_of_sample(steps=100)\n",
        "y_fore = pd.Series(model.predict(X_dp_test), index=X_dp_test.index)\n",
        "y_fore"
      ],
      "metadata": {
        "colab": {
          "base_uri": "https://localhost:8080/",
          "height": 321
        },
        "id": "C4hJtZWPzO0F",
        "outputId": "06cd16d3-3aeb-4eeb-c9a5-fde3b2accbbd"
      },
      "execution_count": 76,
      "outputs": [
        {
          "output_type": "error",
          "ename": "TypeError",
          "evalue": "CalendarFourier terms can only be computed from DatetimeIndex and PeriodIndex",
          "traceback": [
            "\u001b[0;31m---------------------------------------------------------------------------\u001b[0m",
            "\u001b[0;31mTypeError\u001b[0m                                 Traceback (most recent call last)",
            "\u001b[0;32m<ipython-input-76-940295baf303>\u001b[0m in \u001b[0;36m<cell line: 1>\u001b[0;34m()\u001b[0m\n\u001b[0;32m----> 1\u001b[0;31m \u001b[0mX_dp_test\u001b[0m \u001b[0;34m=\u001b[0m \u001b[0mdp\u001b[0m\u001b[0;34m.\u001b[0m\u001b[0mout_of_sample\u001b[0m\u001b[0;34m(\u001b[0m\u001b[0msteps\u001b[0m\u001b[0;34m=\u001b[0m\u001b[0;36m100\u001b[0m\u001b[0;34m)\u001b[0m\u001b[0;34m\u001b[0m\u001b[0;34m\u001b[0m\u001b[0m\n\u001b[0m\u001b[1;32m      2\u001b[0m \u001b[0my_fore\u001b[0m \u001b[0;34m=\u001b[0m \u001b[0mpd\u001b[0m\u001b[0;34m.\u001b[0m\u001b[0mSeries\u001b[0m\u001b[0;34m(\u001b[0m\u001b[0mmodel\u001b[0m\u001b[0;34m.\u001b[0m\u001b[0mpredict\u001b[0m\u001b[0;34m(\u001b[0m\u001b[0mX_dp_test\u001b[0m\u001b[0;34m)\u001b[0m\u001b[0;34m,\u001b[0m \u001b[0mindex\u001b[0m\u001b[0;34m=\u001b[0m\u001b[0mX_dp_test\u001b[0m\u001b[0;34m.\u001b[0m\u001b[0mindex\u001b[0m\u001b[0;34m)\u001b[0m\u001b[0;34m\u001b[0m\u001b[0;34m\u001b[0m\u001b[0m\n\u001b[1;32m      3\u001b[0m \u001b[0my_fore\u001b[0m\u001b[0;34m\u001b[0m\u001b[0;34m\u001b[0m\u001b[0m\n",
            "\u001b[0;32m/usr/local/lib/python3.10/dist-packages/statsmodels/tsa/deterministic.py\u001b[0m in \u001b[0;36mout_of_sample\u001b[0;34m(self, steps, forecast_index)\u001b[0m\n\u001b[1;32m   1320\u001b[0m         \u001b[0mraw_terms\u001b[0m \u001b[0;34m=\u001b[0m \u001b[0;34m[\u001b[0m\u001b[0;34m]\u001b[0m\u001b[0;34m\u001b[0m\u001b[0;34m\u001b[0m\u001b[0m\n\u001b[1;32m   1321\u001b[0m         \u001b[0;32mfor\u001b[0m \u001b[0mterm\u001b[0m \u001b[0;32min\u001b[0m \u001b[0mself\u001b[0m\u001b[0;34m.\u001b[0m\u001b[0m_deterministic_terms\u001b[0m\u001b[0;34m:\u001b[0m\u001b[0;34m\u001b[0m\u001b[0;34m\u001b[0m\u001b[0m\n\u001b[0;32m-> 1322\u001b[0;31m             \u001b[0mraw_terms\u001b[0m\u001b[0;34m.\u001b[0m\u001b[0mappend\u001b[0m\u001b[0;34m(\u001b[0m\u001b[0mterm\u001b[0m\u001b[0;34m.\u001b[0m\u001b[0mout_of_sample\u001b[0m\u001b[0;34m(\u001b[0m\u001b[0msteps\u001b[0m\u001b[0;34m,\u001b[0m \u001b[0mindex\u001b[0m\u001b[0;34m,\u001b[0m \u001b[0mforecast_index\u001b[0m\u001b[0;34m)\u001b[0m\u001b[0;34m)\u001b[0m\u001b[0;34m\u001b[0m\u001b[0;34m\u001b[0m\u001b[0m\n\u001b[0m\u001b[1;32m   1323\u001b[0m         \u001b[0mterms\u001b[0m\u001b[0;34m:\u001b[0m \u001b[0mpd\u001b[0m\u001b[0;34m.\u001b[0m\u001b[0mDataFrame\u001b[0m \u001b[0;34m=\u001b[0m \u001b[0mpd\u001b[0m\u001b[0;34m.\u001b[0m\u001b[0mconcat\u001b[0m\u001b[0;34m(\u001b[0m\u001b[0mraw_terms\u001b[0m\u001b[0;34m,\u001b[0m \u001b[0maxis\u001b[0m\u001b[0;34m=\u001b[0m\u001b[0;36m1\u001b[0m\u001b[0;34m)\u001b[0m\u001b[0;34m\u001b[0m\u001b[0;34m\u001b[0m\u001b[0m\n\u001b[1;32m   1324\u001b[0m         \u001b[0;32massert\u001b[0m \u001b[0mself\u001b[0m\u001b[0;34m.\u001b[0m\u001b[0m_retain_cols\u001b[0m \u001b[0;32mis\u001b[0m \u001b[0;32mnot\u001b[0m \u001b[0;32mNone\u001b[0m\u001b[0;34m\u001b[0m\u001b[0;34m\u001b[0m\u001b[0m\n",
            "\u001b[0;32m/usr/local/lib/python3.10/dist-packages/statsmodels/tsa/deterministic.py\u001b[0m in \u001b[0;36mout_of_sample\u001b[0;34m(self, steps, index, forecast_index)\u001b[0m\n\u001b[1;32m    696\u001b[0m         \u001b[0mindex\u001b[0m \u001b[0;34m=\u001b[0m \u001b[0mself\u001b[0m\u001b[0;34m.\u001b[0m\u001b[0m_index_like\u001b[0m\u001b[0;34m(\u001b[0m\u001b[0mindex\u001b[0m\u001b[0;34m)\u001b[0m\u001b[0;34m\u001b[0m\u001b[0;34m\u001b[0m\u001b[0m\n\u001b[1;32m    697\u001b[0m         \u001b[0mfcast_index\u001b[0m \u001b[0;34m=\u001b[0m \u001b[0mself\u001b[0m\u001b[0;34m.\u001b[0m\u001b[0m_extend_index\u001b[0m\u001b[0;34m(\u001b[0m\u001b[0mindex\u001b[0m\u001b[0;34m,\u001b[0m \u001b[0msteps\u001b[0m\u001b[0;34m,\u001b[0m \u001b[0mforecast_index\u001b[0m\u001b[0;34m)\u001b[0m\u001b[0;34m\u001b[0m\u001b[0;34m\u001b[0m\u001b[0m\n\u001b[0;32m--> 698\u001b[0;31m         \u001b[0mself\u001b[0m\u001b[0;34m.\u001b[0m\u001b[0m_check_index_type\u001b[0m\u001b[0;34m(\u001b[0m\u001b[0mfcast_index\u001b[0m\u001b[0;34m)\u001b[0m\u001b[0;34m\u001b[0m\u001b[0;34m\u001b[0m\u001b[0m\n\u001b[0m\u001b[1;32m    699\u001b[0m         \u001b[0;32massert\u001b[0m \u001b[0misinstance\u001b[0m\u001b[0;34m(\u001b[0m\u001b[0mfcast_index\u001b[0m\u001b[0;34m,\u001b[0m \u001b[0;34m(\u001b[0m\u001b[0mpd\u001b[0m\u001b[0;34m.\u001b[0m\u001b[0mDatetimeIndex\u001b[0m\u001b[0;34m,\u001b[0m \u001b[0mpd\u001b[0m\u001b[0;34m.\u001b[0m\u001b[0mPeriodIndex\u001b[0m\u001b[0;34m)\u001b[0m\u001b[0;34m)\u001b[0m\u001b[0;34m\u001b[0m\u001b[0;34m\u001b[0m\u001b[0m\n\u001b[1;32m    700\u001b[0m         \u001b[0mratio\u001b[0m \u001b[0;34m=\u001b[0m \u001b[0mself\u001b[0m\u001b[0;34m.\u001b[0m\u001b[0m_compute_ratio\u001b[0m\u001b[0;34m(\u001b[0m\u001b[0mfcast_index\u001b[0m\u001b[0;34m)\u001b[0m\u001b[0;34m\u001b[0m\u001b[0;34m\u001b[0m\u001b[0m\n",
            "\u001b[0;32m/usr/local/lib/python3.10/dist-packages/statsmodels/tsa/deterministic.py\u001b[0m in \u001b[0;36m_check_index_type\u001b[0;34m(self, index, allowed)\u001b[0m\n\u001b[1;32m    609\u001b[0m                 \u001b[0;34mf\"{allowed_types}\"\u001b[0m\u001b[0;34m\u001b[0m\u001b[0;34m\u001b[0m\u001b[0m\n\u001b[1;32m    610\u001b[0m             )\n\u001b[0;32m--> 611\u001b[0;31m             \u001b[0;32mraise\u001b[0m \u001b[0mTypeError\u001b[0m\u001b[0;34m(\u001b[0m\u001b[0mmsg\u001b[0m\u001b[0;34m)\u001b[0m\u001b[0;34m\u001b[0m\u001b[0;34m\u001b[0m\u001b[0m\n\u001b[0m\u001b[1;32m    612\u001b[0m         \u001b[0;32massert\u001b[0m \u001b[0misinstance\u001b[0m\u001b[0;34m(\u001b[0m\u001b[0mindex\u001b[0m\u001b[0;34m,\u001b[0m \u001b[0;34m(\u001b[0m\u001b[0mpd\u001b[0m\u001b[0;34m.\u001b[0m\u001b[0mDatetimeIndex\u001b[0m\u001b[0;34m,\u001b[0m \u001b[0mpd\u001b[0m\u001b[0;34m.\u001b[0m\u001b[0mPeriodIndex\u001b[0m\u001b[0;34m)\u001b[0m\u001b[0;34m)\u001b[0m\u001b[0;34m\u001b[0m\u001b[0;34m\u001b[0m\u001b[0m\n\u001b[1;32m    613\u001b[0m         \u001b[0;32mreturn\u001b[0m \u001b[0mindex\u001b[0m\u001b[0;34m\u001b[0m\u001b[0;34m\u001b[0m\u001b[0m\n",
            "\u001b[0;31mTypeError\u001b[0m: CalendarFourier terms can only be computed from DatetimeIndex and PeriodIndex"
          ]
        }
      ]
    },
    {
      "cell_type": "markdown",
      "metadata": {
        "id": "6GmpRhjT4N0V"
      },
      "source": [
        "# Feature Engineering"
      ]
    },
    {
      "cell_type": "code",
      "execution_count": null,
      "metadata": {
        "id": "ZnnEQBN9HfL3"
      },
      "outputs": [],
      "source": [
        "# Define the getDateFeatures() function\n",
        "def getDateFeatures(df):\n",
        "    df.reset_index(inplace = True)\n",
        "    df['year'] = df['date'].dt.year\n",
        "    df['month'] = df['date'].dt.month\n",
        "    df['dayofmonth'] = df['date'].dt.day\n",
        "    df['dayofweek'] = df['date'].dt.dayofweek.astype('object')\n",
        "\n",
        "    # Use isocalendar to get the week number of the year\n",
        "    df['weekofyear'] = df['date'].dt.isocalendar().week\n",
        "\n",
        "    df['quarter'] = df['date'].dt.quarter\n",
        "    df['is_month_start'] = df['date'].dt.is_month_start.astype(int)\n",
        "    df['is_month_end'] = df['date'].dt.is_month_end.astype(int)\n",
        "    df['is_quarter_start'] = df['date'].dt.is_quarter_start.astype(int)\n",
        "    df['is_quarter_end'] = df['date'].dt.is_quarter_end.astype(int)\n",
        "    df['is_year_start'] = df['date'].dt.is_year_start.astype(int)\n",
        "    df['is_year_end'] = df['date'].dt.is_year_end.astype(int)\n",
        "\n",
        "    # Extract the 'year' and 'weekofyear' components from the 'date' column\n",
        "    df['year_weekofyear'] = df['date'].dt.year * 100 + df['weekofyear']\n",
        "\n",
        "    # create new columns to represent the cyclic nature of a year\n",
        "    df['dayofyear'] = df['date'].dt.dayofyear\n",
        "    df[\"sin(dayofyear)\"] = np.sin(2 * np.pi * df[\"dayofyear\"] / 365.25)\n",
        "    df[\"cos(dayofyear)\"] = np.cos(2 * np.pi * df[\"dayofyear\"] / 365.25)\n",
        "\n",
        "    df[\"is_weekend\"] = np.where(df['dayofweek'] > 4, 1, 0)\n",
        "\n",
        "    # Define the criteria for each season\n",
        "    seasons = {'Winter': [12, 1, 2], 'Spring': [3, 4, 5], 'Summer': [6, 7, 8], 'Autumn': [9, 10, 11]}\n",
        "\n",
        "    # Create the 'season' column based on the 'date' column\n",
        "    df['season'] = df['month'].map({month: season for season, months in seasons.items() for month in months})\n",
        "    df.set_index('date', inplace=True)\n",
        "\n",
        "    return df"
      ]
    },
    {
      "cell_type": "markdown",
      "source": [
        "seasonal plots:\n",
        "\n",
        "weekofyear vs dayofweek (line plot of prices for each week vs day of week)\n",
        "\n",
        "encode dayofweek with onhotencoder, drop one day for linear regression, might help improve it\n",
        "\n",
        "year vs dayofyear (line plot of prices for each year vs day of year)\n",
        "\n"
      ],
      "metadata": {
        "id": "cs75aC_DFUxx"
      }
    },
    {
      "cell_type": "code",
      "execution_count": null,
      "metadata": {
        "id": "qBC3kYEiHkEA"
      },
      "outputs": [],
      "source": [
        "train = getDateFeatures(train)\n",
        "train.head()"
      ]
    },
    {
      "cell_type": "code",
      "source": [
        "# annotations: https://stackoverflow.com/a/49238256/5769929\n",
        "def seasonal_plot(X, y, period, freq, ax=None):\n",
        "    if ax is None:\n",
        "        _, ax = plt.subplots()\n",
        "    palette = sns.color_palette(\"husl\", n_colors=X[period].nunique(),)\n",
        "    ax = sns.lineplot(\n",
        "        x=freq,\n",
        "        y=y,\n",
        "        hue=period,\n",
        "        data=X,\n",
        "        ci=False,\n",
        "        ax=ax,\n",
        "        palette=palette,\n",
        "        legend=False,\n",
        "    )\n",
        "    ax.set_title(f\"Seasonal Plot ({period}/{freq})\")\n",
        "    for line, name in zip(ax.lines, X[period].unique()):\n",
        "        y_ = line.get_ydata()[-1]\n",
        "        ax.annotate(\n",
        "            name,\n",
        "            xy=(1, y_),\n",
        "            xytext=(6, 0),\n",
        "            color=line.get_color(),\n",
        "            xycoords=ax.get_yaxis_transform(),\n",
        "            textcoords=\"offset points\",\n",
        "            size=14,\n",
        "            va=\"center\",\n",
        "        )\n",
        "    return ax"
      ],
      "metadata": {
        "id": "r27telFwIeEp"
      },
      "execution_count": null,
      "outputs": []
    },
    {
      "cell_type": "code",
      "source": [
        "X = train.copy()\n",
        "# X['dayofweek'] = X['dayofweek'].astype('int32')\n",
        "# X['weekofyear'] = X['weekofyear'].astype('int32')\n",
        "\n",
        "fig, (ax1) = plt.subplots(1, 1, figsize=(11, 3))\n",
        "# fig, (ax0, ax1) = plt.subplots(2, 1, figsize=(11, 6))\n",
        "# seasonal_plot(X, y=\"spot_price\", period=\"weekofyear\", freq=\"dayofweek\", ax=ax0) # not needed since data is weekly so we have only one day of week so this will give us an empty chart if we plot it\n",
        "seasonal_plot(X, y=\"spot_price\", period=\"year\", freq=\"dayofyear\", ax=ax1);"
      ],
      "metadata": {
        "id": "YaBHun2hIU--"
      },
      "execution_count": null,
      "outputs": []
    },
    {
      "cell_type": "code",
      "source": [
        "def plot_periodogram(ts, detrend='linear', ax=None):\n",
        "    from scipy.signal import periodogram\n",
        "    fs = pd.Timedelta(\"365D\") / pd.Timedelta(\"1D\")\n",
        "    freqencies, spectrum = periodogram(\n",
        "        ts,\n",
        "        fs=fs,\n",
        "        detrend=detrend,\n",
        "        window=\"boxcar\",\n",
        "        scaling='spectrum',\n",
        "    )\n",
        "    if ax is None:\n",
        "        _, ax = plt.subplots()\n",
        "    ax.step(freqencies, spectrum, color=\"purple\")\n",
        "    ax.set_xscale(\"log\")\n",
        "    ax.set_xticks([1, 2, 4, 6, 12, 26, 52, 104])\n",
        "    ax.set_xticklabels(\n",
        "        [\n",
        "            \"Annual (1)\",\n",
        "            \"Semiannual (2)\",\n",
        "            \"Quarterly (4)\",\n",
        "            \"Bimonthly (6)\",\n",
        "            \"Monthly (12)\",\n",
        "            \"Biweekly (26)\",\n",
        "            \"Weekly (52)\",\n",
        "            \"Semiweekly (104)\",\n",
        "        ],\n",
        "        rotation=30,\n",
        "    )\n",
        "    ax.ticklabel_format(axis=\"y\", style=\"sci\", scilimits=(0, 0))\n",
        "    ax.set_ylabel(\"Variance\")\n",
        "    ax.set_title(\"Periodogram\")\n",
        "    return ax"
      ],
      "metadata": {
        "id": "k2oszd3eWZSS"
      },
      "execution_count": null,
      "outputs": []
    },
    {
      "cell_type": "code",
      "source": [
        "plot_periodogram(train.spot_price);"
      ],
      "metadata": {
        "id": "o1JtvQqeWaHF"
      },
      "execution_count": null,
      "outputs": []
    },
    {
      "cell_type": "markdown",
      "source": [
        "this periodogram shows a weak annual season and no weekly season at all in our dataset."
      ],
      "metadata": {
        "id": "8gQYRxedgL7c"
      }
    },
    {
      "cell_type": "markdown",
      "source": [
        " From right to left, the periodogram falls off between quarterly (4) and bimonthly (6), so let's use  4 pairs of Fourier terms for quarterly seasonality."
      ],
      "metadata": {
        "id": "x2jAovQmgs7U"
      }
    },
    {
      "cell_type": "code",
      "source": [
        "fourier = CalendarFourier(freq=\"Q\", order=4)  # 5 sin/cos pairs for seasonality\n",
        "\n",
        "dp = DeterministicProcess(\n",
        "    index=train.index,\n",
        "    constant=True,               # dummy feature for bias (y-intercept)\n",
        "    order=2,                     # trend (order 1 means linear)\n",
        "    seasonal=True,               # weekly seasonality (indicators)\n",
        "    additional_terms=[fourier],  # annual seasonality (fourier)\n",
        "    drop=True,                   # drop terms to avoid collinearity\n",
        ")\n",
        "\n",
        "X = dp.in_sample()  # create features for dates"
      ],
      "metadata": {
        "id": "Wp9J2popgr87"
      },
      "execution_count": null,
      "outputs": []
    },
    {
      "cell_type": "code",
      "source": [
        "y = train['spot_price']\n",
        "\n",
        "model = LinearRegression(fit_intercept=False)\n",
        "_ = model.fit(X, y)\n",
        "\n",
        "y_pred = pd.Series(model.predict(X), index=y.index)\n",
        "X_fore = dp.out_of_sample(steps=90)\n",
        "y_fore = pd.Series(model.predict(X_fore), index=X_fore.index)\n",
        "\n",
        "ax = y.plot(color='0.25', style='.', title=\"Tunnel Traffic - Seasonal Forecast\")\n",
        "ax = y_pred.plot(ax=ax, label=\"Seasonal\")\n",
        "ax = y_fore.plot(ax=ax, label=\"Seasonal Forecast\", color='C3')\n",
        "_ = ax.legend()"
      ],
      "metadata": {
        "id": "59X2VFayI8dO"
      },
      "execution_count": null,
      "outputs": []
    },
    {
      "cell_type": "code",
      "source": [
        "m"
      ],
      "metadata": {
        "id": "xEqnyShjoQco"
      },
      "execution_count": null,
      "outputs": []
    },
    {
      "cell_type": "markdown",
      "metadata": {
        "id": "3FVGY23N4N0c"
      },
      "source": [
        "## Features Encoding & scaling"
      ]
    },
    {
      "cell_type": "code",
      "source": [
        "# train['store_id'] = train['store_id'].map(lambda x:x.split('_')[1]).astype(int)\n",
        "# test['store_id'] = test['store_id'].map(lambda x:x.split('_')[1]).astype(int)\n",
        "\n",
        "# train['category_id'] = train['category_id'].map(lambda x:x.split('_')[1]).astype(int)\n",
        "# test['category_id'] = test['category_id'].map(lambda x:x.split('_')[1]).astype(int)"
      ],
      "metadata": {
        "id": "rDWH9yEtNNJD"
      },
      "execution_count": null,
      "outputs": []
    },
    {
      "cell_type": "code",
      "source": [
        "train.season"
      ],
      "metadata": {
        "id": "N-ew5wGV2Yx3"
      },
      "execution_count": null,
      "outputs": []
    },
    {
      "cell_type": "code",
      "execution_count": null,
      "metadata": {
        "id": "Ub1-OAYM4N0d"
      },
      "outputs": [],
      "source": [
        "numeric_columns = train.select_dtypes(include=['int64', 'float64']).columns.tolist()\n",
        "categoric_columns = train.select_dtypes(include=['object', 'category']).columns.tolist()\n",
        "categoric_columns"
      ]
    },
    {
      "cell_type": "code",
      "execution_count": null,
      "metadata": {
        "id": "_Tv6yroc4N0d"
      },
      "outputs": [],
      "source": [
        "numeric_columns.remove('spot_price')"
      ]
    },
    {
      "cell_type": "code",
      "execution_count": null,
      "metadata": {
        "id": "VYA-XIKY4N0d"
      },
      "outputs": [],
      "source": [
        "encoder = BinaryEncoder(drop_invariant=False, return_df=True,)\n",
        "encoder.fit(train[categoric_columns])"
      ]
    },
    {
      "cell_type": "code",
      "execution_count": null,
      "metadata": {
        "id": "kM4aITtn4N0e"
      },
      "outputs": [],
      "source": [
        "# import pickle\n",
        "\n",
        "# with open('encoder.pkl', 'wb') as f:\n",
        "#     pickle.dump(encoder, f)\n",
        "\n",
        "# with open('scaler.pkl', 'wb') as f:\n",
        "#     pickle.dump(scaler, f)"
      ]
    },
    {
      "cell_type": "code",
      "execution_count": null,
      "metadata": {
        "id": "tVyirQUMwCxz"
      },
      "outputs": [],
      "source": [
        "scaled_num = train[numeric_columns]"
      ]
    },
    {
      "cell_type": "code",
      "execution_count": null,
      "metadata": {
        "id": "esOeOTQ1wCx0"
      },
      "outputs": [],
      "source": [
        "encoded_cat = encoder.transform(train[categoric_columns])"
      ]
    },
    {
      "cell_type": "code",
      "execution_count": null,
      "metadata": {
        "id": "6C2kf5Zs4N0f"
      },
      "outputs": [],
      "source": [
        "train = pd.concat([scaled_num, encoded_cat, train['spot_price']], axis=1)"
      ]
    },
    {
      "cell_type": "markdown",
      "metadata": {
        "id": "aSoVN4uPwCxr"
      },
      "source": [
        "**dataframe for the traditional time series models**"
      ]
    },
    {
      "cell_type": "code",
      "execution_count": null,
      "metadata": {
        "id": "47I8fEFFwCxr"
      },
      "outputs": [],
      "source": [
        "train1 = train[['spot_price']].copy()"
      ]
    },
    {
      "cell_type": "code",
      "execution_count": null,
      "metadata": {
        "id": "r2vwMRYgwCxs"
      },
      "outputs": [],
      "source": [
        "train1.head()"
      ]
    },
    {
      "cell_type": "code",
      "source": [
        "train.index = pd.to_datetime(train.index)\n",
        "\n",
        "# Define the date ranges for validation and testing sets\n",
        "validation_start_date = '2019-03-15'\n",
        "validation_end_date = '2021-06-11'\n",
        "testing_start_date = '2021-06-18'\n",
        "testing_end_date = '2023-05-12'\n",
        "\n",
        "# Create the validation set\n",
        "eval = train.loc[validation_start_date:validation_end_date]\n",
        "\n",
        "# Create the testing set\n",
        "test = train.loc[testing_start_date:testing_end_date]\n",
        "\n",
        "# The remaining data is used for training\n",
        "train = train.drop(eval.index).drop(test.index)\n",
        "\n",
        "# Optionally, you can check the lengths to ensure they match the specified weeks\n",
        "print(f\"Training set length: {len(train)}\")\n",
        "print(f\"Validation set length: {len(eval)}\")\n",
        "print(f\"Testing set length: {len(test)}\")"
      ],
      "metadata": {
        "id": "CEdrESCLGMm-"
      },
      "execution_count": null,
      "outputs": []
    },
    {
      "cell_type": "code",
      "execution_count": null,
      "metadata": {
        "id": "7fMYBWHB4N0g"
      },
      "outputs": [],
      "source": [
        "# Split data into parts\n",
        "X_train = train.drop(['spot_price'], axis = 1)\n",
        "y_train = train['spot_price']\n",
        "X_test = test.drop(['spot_price'], axis = 1)\n",
        "y_test = test['spot_price']"
      ]
    },
    {
      "cell_type": "markdown",
      "metadata": {
        "id": "kpll6xDz4N0h"
      },
      "source": [
        "# Machine Learning Modeling"
      ]
    },
    {
      "cell_type": "markdown",
      "metadata": {
        "id": "f7ET9HZfwCx7"
      },
      "source": [
        "# Traditional Machine Learning Models"
      ]
    },
    {
      "cell_type": "markdown",
      "metadata": {
        "id": "n5MMmgT3wCx8"
      },
      "source": [
        "## AR"
      ]
    },
    {
      "cell_type": "code",
      "execution_count": null,
      "metadata": {
        "id": "IpCYWK32wCx9"
      },
      "outputs": [],
      "source": [
        "x_train, x_test = y_train, y_test\n",
        "print(f'train len: {len(x_train)}, test len: {len(x_test)}')"
      ]
    },
    {
      "cell_type": "code",
      "execution_count": null,
      "metadata": {
        "id": "hgnwDqnSwCyF"
      },
      "outputs": [],
      "source": [
        "pacf = plot_pacf(x_train,lags = 5)"
      ]
    },
    {
      "cell_type": "code",
      "execution_count": null,
      "metadata": {
        "id": "Ya0A53ZJwCyG"
      },
      "outputs": [],
      "source": [
        "armodel = AutoReg(x_train, lags = 3).fit()"
      ]
    },
    {
      "cell_type": "code",
      "execution_count": null,
      "metadata": {
        "id": "Aiyc-EjywCyG"
      },
      "outputs": [],
      "source": [
        "pred = armodel.predict(\n",
        "    start=len(x_train),\n",
        "    end=len(x_train)+len(x_test) -1,\n",
        "    dynamic = False\n",
        ")\n",
        "pred"
      ]
    },
    {
      "cell_type": "code",
      "execution_count": null,
      "metadata": {
        "id": "TNVas53mwCyH"
      },
      "outputs": [],
      "source": [
        "plt.plot(pred)\n",
        "plt.plot(x_test, color='red')"
      ]
    },
    {
      "cell_type": "code",
      "execution_count": null,
      "metadata": {
        "id": "akwiYH2LwCyH"
      },
      "outputs": [],
      "source": [
        "mse = mean_squared_error(x_test, pred)\n",
        "rmse = np.sqrt(mse).round(2)\n",
        "rmsle = np.sqrt(mean_squared_log_error(x_test, pred)).round(2)\n",
        "msle = mean_squared_log_error(x_test, pred).round(2)\n",
        "mae = mean_absolute_error(x_test, pred).round(2)\n",
        "mape = mean_absolute_percentage_error(x_test, pred).round(2)\n",
        "r2 = r2_score(x_test, pred).round(2)\n",
        "\n",
        "results = pd.DataFrame([['AR', msle, rmse, rmsle, mae, mse, mape, r2]],\n",
        "                       columns=['Model', 'MSLE', 'RMSE', 'RMSLE', 'MAE', 'MSE', 'MAPE', 'R2'])"
      ]
    },
    {
      "cell_type": "markdown",
      "metadata": {
        "id": "cYNtBVQewCyJ"
      },
      "source": [
        "## ARIMA"
      ]
    },
    {
      "cell_type": "code",
      "execution_count": null,
      "metadata": {
        "id": "tfa_qfkewCyK"
      },
      "outputs": [],
      "source": [
        "# stepwise_fit = auto_arima(x_train, trace = True, suppress_warnings = True)\n",
        "# stepwise_fit.summary()"
      ]
    },
    {
      "cell_type": "code",
      "execution_count": null,
      "metadata": {
        "id": "baZ88R8LwCyL"
      },
      "outputs": [],
      "source": [
        "model = ARIMA(x_train, order=(3,1,3))\n",
        "model_fit_arima = model.fit()\n",
        "model_fit_arima.summary()"
      ]
    },
    {
      "cell_type": "code",
      "execution_count": null,
      "metadata": {
        "id": "sX6m5p1NwCyL"
      },
      "outputs": [],
      "source": [
        "# Make predictions on the test data\n",
        "ARIMA_pred = model_fit_arima.predict(\n",
        "    start=len(x_train),\n",
        "    end=len(x_train)+len(x_test) -1,\n",
        "    typ=\"levels\")\n",
        "ARIMA_pred"
      ]
    },
    {
      "cell_type": "code",
      "execution_count": null,
      "metadata": {
        "id": "EJ7ZNQBZwCyL"
      },
      "outputs": [],
      "source": [
        "plt.plot(ARIMA_pred)\n",
        "plt.plot(x_test, color='red')"
      ]
    },
    {
      "cell_type": "code",
      "execution_count": null,
      "metadata": {
        "id": "EuW1MiDXwCyM"
      },
      "outputs": [],
      "source": [
        "# Evaluate our models\n",
        "mse = mean_squared_error(x_test, ARIMA_pred)\n",
        "rmse = np.sqrt(mse).round(2)\n",
        "rmsle = np.sqrt(mean_squared_log_error(x_test, ARIMA_pred)).round(2)\n",
        "msle = mean_squared_log_error(x_test, ARIMA_pred).round(2)\n",
        "mae = mean_absolute_error(x_test, ARIMA_pred).round(2)\n",
        "mape = mean_absolute_percentage_error(x_test, ARIMA_pred).round(2)\n",
        "r2 = r2_score(x_test, ARIMA_pred).round(2)\n",
        "\n",
        "model_results = pd.DataFrame([['ARIMA', msle, rmse, rmsle, mae, mse, mape, r2]],\n",
        "                       columns=['Model', 'MSLE', 'RMSE', 'RMSLE', 'MAE', 'MSE', 'MAPE', 'R2'])\n",
        "results = pd.concat([results, model_results], ignore_index=True)"
      ]
    },
    {
      "cell_type": "markdown",
      "metadata": {
        "id": "UBI6QpaawCyM"
      },
      "source": [
        "## SARIMA"
      ]
    },
    {
      "cell_type": "code",
      "execution_count": null,
      "metadata": {
        "id": "f76Wa5sMwCyM"
      },
      "outputs": [],
      "source": [
        "model = SARIMAX(x_train, order=(5, 1, 5), seasonal_order=(0,0,0,0))\n",
        "model_fit = model.fit()\n",
        "model_fit.summary()"
      ]
    },
    {
      "cell_type": "code",
      "execution_count": null,
      "metadata": {
        "id": "pbBg_qhAwCyM"
      },
      "outputs": [],
      "source": [
        "# Make predictions on the test data\n",
        "SARIMA_pred = model_fit.predict(\n",
        "    start=len(x_train),\n",
        "    end=len(x_train)+len(x_test) -1,\n",
        "    typ=\"levels\")\n",
        "SARIMA_pred"
      ]
    },
    {
      "cell_type": "code",
      "execution_count": null,
      "metadata": {
        "id": "07ZspNbkwCyN"
      },
      "outputs": [],
      "source": [
        "plt.plot(SARIMA_pred)\n",
        "plt.plot(x_test, color='red')"
      ]
    },
    {
      "cell_type": "code",
      "execution_count": null,
      "metadata": {
        "id": "Veomuk1UwCyN"
      },
      "outputs": [],
      "source": [
        "# Evaluate our models\n",
        "mse = mean_squared_error(x_test, SARIMA_pred)\n",
        "rmse = np.sqrt(mse).round(2)\n",
        "rmsle = np.sqrt(mean_squared_log_error(x_test, SARIMA_pred)).round(2)\n",
        "msle = mean_squared_log_error(x_test, SARIMA_pred).round(2)\n",
        "mae = mean_absolute_error(x_test, SARIMA_pred).round(2)\n",
        "mape = mean_absolute_percentage_error(x_test, SARIMA_pred).round(2)\n",
        "r2 = r2_score(x_test, SARIMA_pred).round(2)\n",
        "\n",
        "model_results = pd.DataFrame([['SARIMA', msle, rmse, rmsle, mae, mse, mape, r2]],\n",
        "                       columns=['Model', 'MSLE', 'RMSE', 'RMSLE', 'MAE', 'MSE', 'MAPE', 'R2'])\n",
        "results = pd.concat([results, model_results], ignore_index=True)"
      ]
    },
    {
      "cell_type": "code",
      "source": [
        "# Evaluate our models\n",
        "mse = mean_squared_error(x_test, abs(y_fore))\n",
        "rmse = np.sqrt(mse).round(2)\n",
        "rmsle = np.sqrt(mean_squared_log_error(x_test, abs(y_fore))).round(2)\n",
        "msle = mean_squared_log_error(x_test, abs(y_fore)).round(2)\n",
        "mae = mean_absolute_error(x_test, abs(y_fore)).round(2)\n",
        "mape = mean_absolute_percentage_error(x_test, abs(y_fore)).round(2)\n",
        "r2 = r2_score(x_test, abs(y_fore)).round(2)\n",
        "\n",
        "model_results = pd.DataFrame([['dp_trend & Linear Regr', msle, rmse, rmsle, mae, mse, mape, r2]],\n",
        "                       columns=['Model', 'MSLE', 'RMSE', 'RMSLE', 'MAE', 'MSE', 'MAPE', 'R2'])\n",
        "results = pd.concat([results, model_results], ignore_index=True)"
      ],
      "metadata": {
        "id": "s5zGkj2J7zeu"
      },
      "execution_count": null,
      "outputs": []
    },
    {
      "cell_type": "markdown",
      "source": [
        "## Models Comparison"
      ],
      "metadata": {
        "id": "0M0lEwd45EAZ"
      }
    },
    {
      "cell_type": "code",
      "source": [
        "results"
      ],
      "metadata": {
        "id": "dWihbR3L5E0d"
      },
      "execution_count": null,
      "outputs": []
    },
    {
      "cell_type": "markdown",
      "metadata": {
        "id": "3twW92LiwCyO"
      },
      "source": [
        "## Model Evaluation (Backtests)"
      ]
    },
    {
      "cell_type": "markdown",
      "metadata": {
        "id": "--b5dI1L4N0h"
      },
      "source": [
        "# Non-Traditional Time Series Models"
      ]
    },
    {
      "cell_type": "markdown",
      "metadata": {
        "id": "p-MG5g2V4N0h"
      },
      "source": [
        "### DecisionTreeRegressor"
      ]
    },
    {
      "cell_type": "code",
      "execution_count": null,
      "metadata": {
        "id": "7jV3ZqL64N0i"
      },
      "outputs": [],
      "source": [
        "from sklearn.tree import DecisionTreeRegressor\n",
        "tree = DecisionTreeRegressor()\n",
        "model_tree = tree.fit(X_train, y_train)\n",
        "\n",
        "# Make prediction on X_test\n",
        "tree_pred = model_tree.predict(X_test)"
      ]
    },
    {
      "cell_type": "code",
      "execution_count": null,
      "metadata": {
        "id": "FGVD4sAy4N0i"
      },
      "outputs": [],
      "source": [
        "plt.figure(figsize=(8,4))\n",
        "plt.plot(y_test, label ='Actual Sales')\n",
        "plt.plot(tree_pred, label='DecisionTreeRegressor')\n",
        "plt.legend(loc='best')\n",
        "plt.title('DecisionTreeRegressor Prediction')\n",
        "plt.show()"
      ]
    },
    {
      "cell_type": "code",
      "execution_count": null,
      "metadata": {
        "id": "yRIq48Od4N0j"
      },
      "outputs": [],
      "source": [
        "# Assume y_test and tree_pred are defined and have the same length\n",
        "mse = mean_squared_error(y_test, tree_pred)\n",
        "rmse = np.sqrt(mse).round(2)\n",
        "rmsle = np.sqrt(mean_squared_log_error(y_test, tree_pred)).round(2)\n",
        "msle = mean_squared_log_error(y_test, tree_pred).round(2)\n",
        "mae = mean_absolute_error(y_test, tree_pred).round(2)\n",
        "mape = mean_absolute_percentage_error(y_test, tree_pred).round(2)\n",
        "r2 = r2_score(y_test, tree_pred).round(2)\n",
        "\n",
        "results = pd.DataFrame([['DecisionTree', msle, rmse, rmsle, mae, mse, mape, r2]],\n",
        "                       columns=['Model', 'MSLE', 'RMSE', 'RMSLE', 'MAE', 'MSE', 'MAPE', 'R2'])"
      ]
    },
    {
      "cell_type": "markdown",
      "metadata": {
        "id": "M_f0-Hnr4N0j"
      },
      "source": [
        "### KNN"
      ]
    },
    {
      "cell_type": "code",
      "execution_count": null,
      "metadata": {
        "id": "03R8eIEg4N0k"
      },
      "outputs": [],
      "source": [
        "from sklearn.neighbors import KNeighborsRegressor\n",
        "neigh = KNeighborsRegressor(n_neighbors=1)\n",
        "# fit model no training data\n",
        "neigh.fit(X_train, y_train)\n",
        "\n",
        "# make predictions for test data\n",
        "neigh_pred = neigh.predict(X_test)"
      ]
    },
    {
      "cell_type": "code",
      "source": [
        "plt.figure(figsize=(8,4))\n",
        "plt.plot(y_test, label ='Actual Sales')\n",
        "plt.plot(neigh_pred, label='KNeighborsRegressor')\n",
        "plt.legend(loc='best')\n",
        "plt.title('KNeighborsRegressor Prediction')\n",
        "plt.show()"
      ],
      "metadata": {
        "id": "b5ga2_QilXjW"
      },
      "execution_count": null,
      "outputs": []
    },
    {
      "cell_type": "code",
      "execution_count": null,
      "metadata": {
        "id": "ORSI8VNk4N0k"
      },
      "outputs": [],
      "source": [
        "mse = mean_squared_error(y_test, neigh_pred)\n",
        "rmse = np.sqrt(mse).round(2)\n",
        "rmsle = np.sqrt(mean_squared_log_error(y_test, neigh_pred)).round(2)\n",
        "msle = mean_squared_log_error(y_test, neigh_pred).round(2)\n",
        "mae = mean_absolute_error(y_test, neigh_pred).round(2)\n",
        "mape = mean_absolute_percentage_error(y_test, neigh_pred).round(2)\n",
        "r2 = r2_score(y_test, neigh_pred).round(2)\n",
        "\n",
        "model_results = pd.DataFrame([['KNN', msle, rmse, rmsle, mae, mse, mape, r2]],\n",
        "                       columns=['Model', 'MSLE', 'RMSE', 'RMSLE', 'MAE', 'MSE', 'MAPE', 'R2'])\n",
        "results = pd.concat([results, model_results], ignore_index=True)"
      ]
    },
    {
      "cell_type": "markdown",
      "source": [
        "### RandomForestRegressor"
      ],
      "metadata": {
        "id": "kkdiDsNelg7j"
      }
    },
    {
      "cell_type": "code",
      "source": [
        "from sklearn.ensemble import RandomForestRegressor\n",
        "# Initialize and fit the Random Forest Regressor\n",
        "forest = RandomForestRegressor()\n",
        "model_forest = forest.fit(X_train, y_train)\n",
        "\n",
        "# Make predictions on X_test\n",
        "forest_pred = model_forest.predict(X_test)"
      ],
      "metadata": {
        "id": "r2hKk0NOll9s"
      },
      "execution_count": null,
      "outputs": []
    },
    {
      "cell_type": "code",
      "source": [
        "plt.figure(figsize=(8, 4))\n",
        "plt.plot(y_test, label='Actual Sales')\n",
        "plt.plot(forest_pred, label='RandomForestRegressor')\n",
        "plt.legend(loc='best')\n",
        "plt.title('RandomForestRegressor Prediction')\n",
        "plt.show()"
      ],
      "metadata": {
        "id": "xfU3HZ_flwRx"
      },
      "execution_count": null,
      "outputs": []
    },
    {
      "cell_type": "code",
      "source": [
        "mse = mean_squared_error(y_test, forest_pred)\n",
        "rmse = np.sqrt(mse).round(2)\n",
        "rmsle = np.sqrt(mean_squared_log_error(y_test, forest_pred)).round(2)\n",
        "msle = mean_squared_log_error(y_test, forest_pred).round(2)\n",
        "mae = mean_absolute_error(y_test, forest_pred).round(2)\n",
        "mape = mean_absolute_percentage_error(y_test, forest_pred).round(2)\n",
        "r2 = r2_score(y_test, forest_pred).round(2)\n",
        "\n",
        "model_results = pd.DataFrame([['Random Forest', msle, rmse, rmsle, mae, mse, mape, r2]],\n",
        "                       columns=['Model', 'MSLE', 'RMSE', 'RMSLE', 'MAE', 'MSE', 'MAPE', 'R2'])\n",
        "# Append the results to the DataFrame\n",
        "results = pd.concat([results, model_results], ignore_index=True)"
      ],
      "metadata": {
        "id": "8ZVEv2xYlxrl"
      },
      "execution_count": null,
      "outputs": []
    },
    {
      "cell_type": "markdown",
      "source": [
        "### Support Vector Regression (SVR)"
      ],
      "metadata": {
        "id": "f23SVbfcmF0V"
      }
    },
    {
      "cell_type": "code",
      "source": [
        "from sklearn.svm import SVR\n",
        "\n",
        "# Initialize and fit the SVR model\n",
        "svr = SVR()\n",
        "model_svr = svr.fit(X_train, y_train)\n",
        "\n",
        "# Make predictions on X_test\n",
        "svr_pred = model_svr.predict(X_test)"
      ],
      "metadata": {
        "id": "aJiDg2JtmMVT"
      },
      "execution_count": null,
      "outputs": []
    },
    {
      "cell_type": "code",
      "source": [
        "plt.figure(figsize=(8, 4))\n",
        "plt.plot(y_test, label='Actual Sales')\n",
        "plt.plot(svr_pred, label='Support Vector Regression')\n",
        "plt.legend(loc='best')\n",
        "plt.title('Support Vector Regression Prediction')\n",
        "plt.show()"
      ],
      "metadata": {
        "id": "hE8Jp3SdmNou"
      },
      "execution_count": null,
      "outputs": []
    },
    {
      "cell_type": "code",
      "source": [
        "mse = mean_squared_error(y_test, svr_pred)\n",
        "rmse = np.sqrt(mse).round(2)\n",
        "rmsle = np.sqrt(mean_squared_log_error(y_test, svr_pred)).round(2)\n",
        "msle = mean_squared_log_error(y_test, svr_pred).round(2)\n",
        "mae = mean_absolute_error(y_test, svr_pred).round(2)\n",
        "mape = mean_absolute_percentage_error(y_test, svr_pred).round(2)\n",
        "r2 = r2_score(y_test, svr_pred).round(2)\n",
        "\n",
        "model_results = pd.DataFrame([['SVR', msle, rmse, rmsle, mae, mse, mape, r2]],\n",
        "                       columns=['Model', 'MSLE', 'RMSE', 'RMSLE', 'MAE', 'MSE', 'MAPE', 'R2'])\n",
        "results = pd.concat([results, model_results], ignore_index=True)"
      ],
      "metadata": {
        "id": "9OFAEVXHmNlp"
      },
      "execution_count": null,
      "outputs": []
    },
    {
      "cell_type": "markdown",
      "source": [
        "### Gradient Boosting"
      ],
      "metadata": {
        "id": "4ejfTTMmmtat"
      }
    },
    {
      "cell_type": "code",
      "source": [
        "from sklearn.ensemble import GradientBoostingRegressor\n",
        "\n",
        "# Initialize and fit the Gradient Boosting model\n",
        "gbr = GradientBoostingRegressor()\n",
        "model_gbr = gbr.fit(X_train, y_train)\n",
        "\n",
        "# Make predictions on X_test\n",
        "gbr_pred = model_gbr.predict(X_test)"
      ],
      "metadata": {
        "id": "_1gA-FJem2vV"
      },
      "execution_count": null,
      "outputs": []
    },
    {
      "cell_type": "code",
      "source": [
        "plt.figure(figsize=(8, 4))\n",
        "plt.plot(y_test, label='Actual Sales')\n",
        "plt.plot(gbr_pred, label='Gradient Boosting')\n",
        "plt.legend(loc='best')\n",
        "plt.title('Gradient Boosting Prediction')\n",
        "plt.show()"
      ],
      "metadata": {
        "id": "ke9igzf3m4CD"
      },
      "execution_count": null,
      "outputs": []
    },
    {
      "cell_type": "code",
      "source": [
        "mse = mean_squared_error(y_test, gbr_pred)\n",
        "rmse = np.sqrt(mse).round(2)\n",
        "rmsle = np.sqrt(mean_squared_log_error(y_test, gbr_pred)).round(2)\n",
        "msle = mean_squared_log_error(y_test, gbr_pred).round(2)\n",
        "mae = mean_absolute_error(y_test, gbr_pred).round(2)\n",
        "mape = mean_absolute_percentage_error(y_test, gbr_pred).round(2)\n",
        "r2 = r2_score(y_test, gbr_pred).round(2)\n",
        "\n",
        "model_results = pd.DataFrame([['Gradient Boosting', msle, rmse, rmsle, mae, mse, mape, r2]],\n",
        "                       columns=['Model', 'MSLE', 'RMSE', 'RMSLE', 'MAE', 'MSE', 'MAPE', 'R2'])\n",
        "results = pd.concat([results, model_results], ignore_index=True)"
      ],
      "metadata": {
        "id": "jSqhcFQOmxRz"
      },
      "execution_count": null,
      "outputs": []
    },
    {
      "cell_type": "markdown",
      "source": [
        "### XGBoost"
      ],
      "metadata": {
        "id": "6c8xEI0znFsI"
      }
    },
    {
      "cell_type": "code",
      "source": [
        "import xgboost as xgb\n",
        "\n",
        "# Initialize and fit the XGBoost model\n",
        "xgboost = xgb.XGBRegressor()\n",
        "model_xgboost = xgboost.fit(X_train, y_train)\n",
        "\n",
        "# Make predictions on X_test\n",
        "xgboost_pred = model_xgboost.predict(X_test)\n",
        "\n",
        "mse = mean_squared_error(y_test, xgboost_pred)\n",
        "rmse = np.sqrt(mse).round(2)\n",
        "rmsle = np.sqrt(mean_squared_log_error(y_test, xgboost_pred)).round(2)\n",
        "msle = mean_squared_log_error(y_test, xgboost_pred).round(2)\n",
        "mae = mean_absolute_error(y_test, xgboost_pred).round(2)\n",
        "mape = mean_absolute_percentage_error(y_test, xgboost_pred).round(2)\n",
        "r2 = r2_score(y_test, xgboost_pred).round(2)\n",
        "\n",
        "model_results = pd.DataFrame([['XGBoost', msle, rmse, rmsle, mae, mse, mape, r2]],\n",
        "                       columns=['Model', 'MSLE', 'RMSE', 'RMSLE', 'MAE', 'MSE', 'MAPE', 'R2'])\n",
        "results = pd.concat([results, model_results], ignore_index=True)"
      ],
      "metadata": {
        "id": "6o8uz3jonHA9"
      },
      "execution_count": null,
      "outputs": []
    },
    {
      "cell_type": "markdown",
      "source": [
        "### Linear Regression"
      ],
      "metadata": {
        "id": "P6rBf-mqnLnz"
      }
    },
    {
      "cell_type": "code",
      "source": [
        "from sklearn.linear_model import LinearRegression\n",
        "\n",
        "# Initialize and fit the Linear Regression model\n",
        "linear_reg = LinearRegression()\n",
        "model_linear_reg = linear_reg.fit(X_train, y_train)\n",
        "\n",
        "# Make predictions on X_test\n",
        "linear_reg_pred = model_linear_reg.predict(X_test)\n",
        "\n",
        "mse = mean_squared_error(y_test, linear_reg_pred)\n",
        "rmse = np.sqrt(mse).round(2)\n",
        "rmsle = np.sqrt(mean_squared_log_error(y_test, linear_reg_pred)).round(2)\n",
        "msle = mean_squared_log_error(y_test, linear_reg_pred).round(2)\n",
        "mae = mean_absolute_error(y_test, linear_reg_pred).round(2)\n",
        "mape = mean_absolute_percentage_error(y_test, linear_reg_pred).round(2)\n",
        "r2 = r2_score(y_test, linear_reg_pred).round(2)\n",
        "\n",
        "model_results = pd.DataFrame([['Linear Regression', msle, rmse, rmsle, mae, mse, mape, r2]],\n",
        "                       columns=['Model', 'MSLE', 'RMSE', 'RMSLE', 'MAE', 'MSE', 'MAPE', 'R2'])\n",
        "results = pd.concat([results, model_results], ignore_index=True)"
      ],
      "metadata": {
        "id": "XCi5dxXenPNk"
      },
      "execution_count": null,
      "outputs": []
    },
    {
      "cell_type": "markdown",
      "metadata": {
        "id": "px5fQiLs4N0k"
      },
      "source": [
        "## Models Comparison"
      ]
    },
    {
      "cell_type": "code",
      "source": [
        "results"
      ],
      "metadata": {
        "id": "D4I9RcCPnThC"
      },
      "execution_count": null,
      "outputs": []
    },
    {
      "cell_type": "markdown",
      "source": [
        "# Advanced Time Series Models"
      ],
      "metadata": {
        "id": "NpzzTh4GtrrV"
      }
    },
    {
      "cell_type": "markdown",
      "metadata": {
        "id": "pqIJI8kx4N0l"
      },
      "source": [
        "## Model Evaluation (Backtests)"
      ]
    },
    {
      "cell_type": "markdown",
      "source": [
        "# Hyperparameter Tuning"
      ],
      "metadata": {
        "id": "CL5LyUScBhVT"
      }
    },
    {
      "cell_type": "markdown",
      "metadata": {
        "id": "lfuyZwMQ4N0p"
      },
      "source": [
        "### predicting sales in our test"
      ]
    },
    {
      "cell_type": "code",
      "execution_count": null,
      "metadata": {
        "id": "VdiY19CV4N0q"
      },
      "outputs": [],
      "source": [
        "test_pred = neigh.predict(test)\n",
        "test_pred"
      ]
    },
    {
      "cell_type": "code",
      "source": [
        "test.head()"
      ],
      "metadata": {
        "id": "u_auf_-oV5iJ"
      },
      "execution_count": null,
      "outputs": []
    },
    {
      "cell_type": "code",
      "source": [
        "# test['spot_price'] = test_pred\n",
        "# sub = test[['ID', 'spot_price']]"
      ],
      "metadata": {
        "id": "LwULY8y7kX11"
      },
      "execution_count": null,
      "outputs": []
    },
    {
      "cell_type": "code",
      "execution_count": null,
      "metadata": {
        "id": "_9M_q1aq4N0r"
      },
      "outputs": [],
      "source": [
        "# Save sample submission\n",
        "# sub.to_csv('submission.csv', index=False)"
      ]
    },
    {
      "cell_type": "code",
      "execution_count": null,
      "metadata": {
        "id": "7JtHj2gv4N0s"
      },
      "outputs": [],
      "source": []
    }
  ],
  "metadata": {
    "colab": {
      "provenance": [],
      "toc_visible": true
    },
    "kernelspec": {
      "display_name": "Python 3",
      "name": "python3"
    },
    "language_info": {
      "codemirror_mode": {
        "name": "ipython",
        "version": 3
      },
      "file_extension": ".py",
      "mimetype": "text/x-python",
      "name": "python",
      "nbconvert_exporter": "python",
      "pygments_lexer": "ipython3",
      "version": "3.9.13"
    },
    "vscode": {
      "interpreter": {
        "hash": "7679c2132d3f6ce38c9df14d554b39c06862b36a4e6689c81f9ae15bd0911d7d"
      }
    }
  },
  "nbformat": 4,
  "nbformat_minor": 0
}